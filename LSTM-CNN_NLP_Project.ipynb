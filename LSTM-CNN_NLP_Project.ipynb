{
  "nbformat": 4,
  "nbformat_minor": 0,
  "metadata": {
    "accelerator": "GPU",
    "colab": {
      "name": "Copy of LSTM-NLP-Project.ipynb",
      "provenance": [],
      "collapsed_sections": []
    },
    "kernelspec": {
      "display_name": "Python 3",
      "name": "python3"
    }
  },
  "cells": [
    {
      "cell_type": "code",
      "metadata": {
        "id": "PFMqQwKMRrsw"
      },
      "source": [
        "import numpy as np  # linear algebra\n",
        "import pandas as pd  # data processing, CSV file I/O (e.g. pd.read_csv)\n",
        "from collections import Counter\n",
        "from keras.preprocessing.text import Tokenizer\n",
        "from keras.preprocessing.sequence import pad_sequences\n",
        "import pickle\n",
        "from sklearn.model_selection import train_test_split\n",
        "from sklearn.metrics import log_loss\n",
        "from keras.models import Sequential\n",
        "from keras.layers import LSTM, Dense, Bidirectional, BatchNormalization, Dropout, GRU\n",
        "from keras import optimizers\n",
        "#from keras.utils import to_categorical\n",
        "from keras.utils.np_utils import to_categorical\n",
        "import string\n",
        "\n",
        "# some parameters\n",
        "BATCH_SIZE = 1024  # batch size for the network\n",
        "EPOCH_NUMBER = 1  # number of epochs to train\n",
        "THRESHOLD = 5  # symbols appearing fewer times will be replaced by a placeholder\n"
      ],
      "execution_count": 1,
      "outputs": []
    },
    {
      "cell_type": "code",
      "metadata": {
        "colab": {
          "resources": {
            "http://localhost:8080/nbextensions/google.colab/files.js": {
              "data": "Ly8gQ29weXJpZ2h0IDIwMTcgR29vZ2xlIExMQwovLwovLyBMaWNlbnNlZCB1bmRlciB0aGUgQXBhY2hlIExpY2Vuc2UsIFZlcnNpb24gMi4wICh0aGUgIkxpY2Vuc2UiKTsKLy8geW91IG1heSBub3QgdXNlIHRoaXMgZmlsZSBleGNlcHQgaW4gY29tcGxpYW5jZSB3aXRoIHRoZSBMaWNlbnNlLgovLyBZb3UgbWF5IG9idGFpbiBhIGNvcHkgb2YgdGhlIExpY2Vuc2UgYXQKLy8KLy8gICAgICBodHRwOi8vd3d3LmFwYWNoZS5vcmcvbGljZW5zZXMvTElDRU5TRS0yLjAKLy8KLy8gVW5sZXNzIHJlcXVpcmVkIGJ5IGFwcGxpY2FibGUgbGF3IG9yIGFncmVlZCB0byBpbiB3cml0aW5nLCBzb2Z0d2FyZQovLyBkaXN0cmlidXRlZCB1bmRlciB0aGUgTGljZW5zZSBpcyBkaXN0cmlidXRlZCBvbiBhbiAiQVMgSVMiIEJBU0lTLAovLyBXSVRIT1VUIFdBUlJBTlRJRVMgT1IgQ09ORElUSU9OUyBPRiBBTlkgS0lORCwgZWl0aGVyIGV4cHJlc3Mgb3IgaW1wbGllZC4KLy8gU2VlIHRoZSBMaWNlbnNlIGZvciB0aGUgc3BlY2lmaWMgbGFuZ3VhZ2UgZ292ZXJuaW5nIHBlcm1pc3Npb25zIGFuZAovLyBsaW1pdGF0aW9ucyB1bmRlciB0aGUgTGljZW5zZS4KCi8qKgogKiBAZmlsZW92ZXJ2aWV3IEhlbHBlcnMgZm9yIGdvb2dsZS5jb2xhYiBQeXRob24gbW9kdWxlLgogKi8KKGZ1bmN0aW9uKHNjb3BlKSB7CmZ1bmN0aW9uIHNwYW4odGV4dCwgc3R5bGVBdHRyaWJ1dGVzID0ge30pIHsKICBjb25zdCBlbGVtZW50ID0gZG9jdW1lbnQuY3JlYXRlRWxlbWVudCgnc3BhbicpOwogIGVsZW1lbnQudGV4dENvbnRlbnQgPSB0ZXh0OwogIGZvciAoY29uc3Qga2V5IG9mIE9iamVjdC5rZXlzKHN0eWxlQXR0cmlidXRlcykpIHsKICAgIGVsZW1lbnQuc3R5bGVba2V5XSA9IHN0eWxlQXR0cmlidXRlc1trZXldOwogIH0KICByZXR1cm4gZWxlbWVudDsKfQoKLy8gTWF4IG51bWJlciBvZiBieXRlcyB3aGljaCB3aWxsIGJlIHVwbG9hZGVkIGF0IGEgdGltZS4KY29uc3QgTUFYX1BBWUxPQURfU0laRSA9IDEwMCAqIDEwMjQ7CgpmdW5jdGlvbiBfdXBsb2FkRmlsZXMoaW5wdXRJZCwgb3V0cHV0SWQpIHsKICBjb25zdCBzdGVwcyA9IHVwbG9hZEZpbGVzU3RlcChpbnB1dElkLCBvdXRwdXRJZCk7CiAgY29uc3Qgb3V0cHV0RWxlbWVudCA9IGRvY3VtZW50LmdldEVsZW1lbnRCeUlkKG91dHB1dElkKTsKICAvLyBDYWNoZSBzdGVwcyBvbiB0aGUgb3V0cHV0RWxlbWVudCB0byBtYWtlIGl0IGF2YWlsYWJsZSBmb3IgdGhlIG5leHQgY2FsbAogIC8vIHRvIHVwbG9hZEZpbGVzQ29udGludWUgZnJvbSBQeXRob24uCiAgb3V0cHV0RWxlbWVudC5zdGVwcyA9IHN0ZXBzOwoKICByZXR1cm4gX3VwbG9hZEZpbGVzQ29udGludWUob3V0cHV0SWQpOwp9CgovLyBUaGlzIGlzIHJvdWdobHkgYW4gYXN5bmMgZ2VuZXJhdG9yIChub3Qgc3VwcG9ydGVkIGluIHRoZSBicm93c2VyIHlldCksCi8vIHdoZXJlIHRoZXJlIGFyZSBtdWx0aXBsZSBhc3luY2hyb25vdXMgc3RlcHMgYW5kIHRoZSBQeXRob24gc2lkZSBpcyBnb2luZwovLyB0byBwb2xsIGZvciBjb21wbGV0aW9uIG9mIGVhY2ggc3RlcC4KLy8gVGhpcyB1c2VzIGEgUHJvbWlzZSB0byBibG9jayB0aGUgcHl0aG9uIHNpZGUgb24gY29tcGxldGlvbiBvZiBlYWNoIHN0ZXAsCi8vIHRoZW4gcGFzc2VzIHRoZSByZXN1bHQgb2YgdGhlIHByZXZpb3VzIHN0ZXAgYXMgdGhlIGlucHV0IHRvIHRoZSBuZXh0IHN0ZXAuCmZ1bmN0aW9uIF91cGxvYWRGaWxlc0NvbnRpbnVlKG91dHB1dElkKSB7CiAgY29uc3Qgb3V0cHV0RWxlbWVudCA9IGRvY3VtZW50LmdldEVsZW1lbnRCeUlkKG91dHB1dElkKTsKICBjb25zdCBzdGVwcyA9IG91dHB1dEVsZW1lbnQuc3RlcHM7CgogIGNvbnN0IG5leHQgPSBzdGVwcy5uZXh0KG91dHB1dEVsZW1lbnQubGFzdFByb21pc2VWYWx1ZSk7CiAgcmV0dXJuIFByb21pc2UucmVzb2x2ZShuZXh0LnZhbHVlLnByb21pc2UpLnRoZW4oKHZhbHVlKSA9PiB7CiAgICAvLyBDYWNoZSB0aGUgbGFzdCBwcm9taXNlIHZhbHVlIHRvIG1ha2UgaXQgYXZhaWxhYmxlIHRvIHRoZSBuZXh0CiAgICAvLyBzdGVwIG9mIHRoZSBnZW5lcmF0b3IuCiAgICBvdXRwdXRFbGVtZW50Lmxhc3RQcm9taXNlVmFsdWUgPSB2YWx1ZTsKICAgIHJldHVybiBuZXh0LnZhbHVlLnJlc3BvbnNlOwogIH0pOwp9CgovKioKICogR2VuZXJhdG9yIGZ1bmN0aW9uIHdoaWNoIGlzIGNhbGxlZCBiZXR3ZWVuIGVhY2ggYXN5bmMgc3RlcCBvZiB0aGUgdXBsb2FkCiAqIHByb2Nlc3MuCiAqIEBwYXJhbSB7c3RyaW5nfSBpbnB1dElkIEVsZW1lbnQgSUQgb2YgdGhlIGlucHV0IGZpbGUgcGlja2VyIGVsZW1lbnQuCiAqIEBwYXJhbSB7c3RyaW5nfSBvdXRwdXRJZCBFbGVtZW50IElEIG9mIHRoZSBvdXRwdXQgZGlzcGxheS4KICogQHJldHVybiB7IUl0ZXJhYmxlPCFPYmplY3Q+fSBJdGVyYWJsZSBvZiBuZXh0IHN0ZXBzLgogKi8KZnVuY3Rpb24qIHVwbG9hZEZpbGVzU3RlcChpbnB1dElkLCBvdXRwdXRJZCkgewogIGNvbnN0IGlucHV0RWxlbWVudCA9IGRvY3VtZW50LmdldEVsZW1lbnRCeUlkKGlucHV0SWQpOwogIGlucHV0RWxlbWVudC5kaXNhYmxlZCA9IGZhbHNlOwoKICBjb25zdCBvdXRwdXRFbGVtZW50ID0gZG9jdW1lbnQuZ2V0RWxlbWVudEJ5SWQob3V0cHV0SWQpOwogIG91dHB1dEVsZW1lbnQuaW5uZXJIVE1MID0gJyc7CgogIGNvbnN0IHBpY2tlZFByb21pc2UgPSBuZXcgUHJvbWlzZSgocmVzb2x2ZSkgPT4gewogICAgaW5wdXRFbGVtZW50LmFkZEV2ZW50TGlzdGVuZXIoJ2NoYW5nZScsIChlKSA9PiB7CiAgICAgIHJlc29sdmUoZS50YXJnZXQuZmlsZXMpOwogICAgfSk7CiAgfSk7CgogIGNvbnN0IGNhbmNlbCA9IGRvY3VtZW50LmNyZWF0ZUVsZW1lbnQoJ2J1dHRvbicpOwogIGlucHV0RWxlbWVudC5wYXJlbnRFbGVtZW50LmFwcGVuZENoaWxkKGNhbmNlbCk7CiAgY2FuY2VsLnRleHRDb250ZW50ID0gJ0NhbmNlbCB1cGxvYWQnOwogIGNvbnN0IGNhbmNlbFByb21pc2UgPSBuZXcgUHJvbWlzZSgocmVzb2x2ZSkgPT4gewogICAgY2FuY2VsLm9uY2xpY2sgPSAoKSA9PiB7CiAgICAgIHJlc29sdmUobnVsbCk7CiAgICB9OwogIH0pOwoKICAvLyBXYWl0IGZvciB0aGUgdXNlciB0byBwaWNrIHRoZSBmaWxlcy4KICBjb25zdCBmaWxlcyA9IHlpZWxkIHsKICAgIHByb21pc2U6IFByb21pc2UucmFjZShbcGlja2VkUHJvbWlzZSwgY2FuY2VsUHJvbWlzZV0pLAogICAgcmVzcG9uc2U6IHsKICAgICAgYWN0aW9uOiAnc3RhcnRpbmcnLAogICAgfQogIH07CgogIGNhbmNlbC5yZW1vdmUoKTsKCiAgLy8gRGlzYWJsZSB0aGUgaW5wdXQgZWxlbWVudCBzaW5jZSBmdXJ0aGVyIHBpY2tzIGFyZSBub3QgYWxsb3dlZC4KICBpbnB1dEVsZW1lbnQuZGlzYWJsZWQgPSB0cnVlOwoKICBpZiAoIWZpbGVzKSB7CiAgICByZXR1cm4gewogICAgICByZXNwb25zZTogewogICAgICAgIGFjdGlvbjogJ2NvbXBsZXRlJywKICAgICAgfQogICAgfTsKICB9CgogIGZvciAoY29uc3QgZmlsZSBvZiBmaWxlcykgewogICAgY29uc3QgbGkgPSBkb2N1bWVudC5jcmVhdGVFbGVtZW50KCdsaScpOwogICAgbGkuYXBwZW5kKHNwYW4oZmlsZS5uYW1lLCB7Zm9udFdlaWdodDogJ2JvbGQnfSkpOwogICAgbGkuYXBwZW5kKHNwYW4oCiAgICAgICAgYCgke2ZpbGUudHlwZSB8fCAnbi9hJ30pIC0gJHtmaWxlLnNpemV9IGJ5dGVzLCBgICsKICAgICAgICBgbGFzdCBtb2RpZmllZDogJHsKICAgICAgICAgICAgZmlsZS5sYXN0TW9kaWZpZWREYXRlID8gZmlsZS5sYXN0TW9kaWZpZWREYXRlLnRvTG9jYWxlRGF0ZVN0cmluZygpIDoKICAgICAgICAgICAgICAgICAgICAgICAgICAgICAgICAgICAgJ24vYSd9IC0gYCkpOwogICAgY29uc3QgcGVyY2VudCA9IHNwYW4oJzAlIGRvbmUnKTsKICAgIGxpLmFwcGVuZENoaWxkKHBlcmNlbnQpOwoKICAgIG91dHB1dEVsZW1lbnQuYXBwZW5kQ2hpbGQobGkpOwoKICAgIGNvbnN0IGZpbGVEYXRhUHJvbWlzZSA9IG5ldyBQcm9taXNlKChyZXNvbHZlKSA9PiB7CiAgICAgIGNvbnN0IHJlYWRlciA9IG5ldyBGaWxlUmVhZGVyKCk7CiAgICAgIHJlYWRlci5vbmxvYWQgPSAoZSkgPT4gewogICAgICAgIHJlc29sdmUoZS50YXJnZXQucmVzdWx0KTsKICAgICAgfTsKICAgICAgcmVhZGVyLnJlYWRBc0FycmF5QnVmZmVyKGZpbGUpOwogICAgfSk7CiAgICAvLyBXYWl0IGZvciB0aGUgZGF0YSB0byBiZSByZWFkeS4KICAgIGxldCBmaWxlRGF0YSA9IHlpZWxkIHsKICAgICAgcHJvbWlzZTogZmlsZURhdGFQcm9taXNlLAogICAgICByZXNwb25zZTogewogICAgICAgIGFjdGlvbjogJ2NvbnRpbnVlJywKICAgICAgfQogICAgfTsKCiAgICAvLyBVc2UgYSBjaHVua2VkIHNlbmRpbmcgdG8gYXZvaWQgbWVzc2FnZSBzaXplIGxpbWl0cy4gU2VlIGIvNjIxMTU2NjAuCiAgICBsZXQgcG9zaXRpb24gPSAwOwogICAgd2hpbGUgKHBvc2l0aW9uIDwgZmlsZURhdGEuYnl0ZUxlbmd0aCkgewogICAgICBjb25zdCBsZW5ndGggPSBNYXRoLm1pbihmaWxlRGF0YS5ieXRlTGVuZ3RoIC0gcG9zaXRpb24sIE1BWF9QQVlMT0FEX1NJWkUpOwogICAgICBjb25zdCBjaHVuayA9IG5ldyBVaW50OEFycmF5KGZpbGVEYXRhLCBwb3NpdGlvbiwgbGVuZ3RoKTsKICAgICAgcG9zaXRpb24gKz0gbGVuZ3RoOwoKICAgICAgY29uc3QgYmFzZTY0ID0gYnRvYShTdHJpbmcuZnJvbUNoYXJDb2RlLmFwcGx5KG51bGwsIGNodW5rKSk7CiAgICAgIHlpZWxkIHsKICAgICAgICByZXNwb25zZTogewogICAgICAgICAgYWN0aW9uOiAnYXBwZW5kJywKICAgICAgICAgIGZpbGU6IGZpbGUubmFtZSwKICAgICAgICAgIGRhdGE6IGJhc2U2NCwKICAgICAgICB9LAogICAgICB9OwogICAgICBwZXJjZW50LnRleHRDb250ZW50ID0KICAgICAgICAgIGAke01hdGgucm91bmQoKHBvc2l0aW9uIC8gZmlsZURhdGEuYnl0ZUxlbmd0aCkgKiAxMDApfSUgZG9uZWA7CiAgICB9CiAgfQoKICAvLyBBbGwgZG9uZS4KICB5aWVsZCB7CiAgICByZXNwb25zZTogewogICAgICBhY3Rpb246ICdjb21wbGV0ZScsCiAgICB9CiAgfTsKfQoKc2NvcGUuZ29vZ2xlID0gc2NvcGUuZ29vZ2xlIHx8IHt9OwpzY29wZS5nb29nbGUuY29sYWIgPSBzY29wZS5nb29nbGUuY29sYWIgfHwge307CnNjb3BlLmdvb2dsZS5jb2xhYi5fZmlsZXMgPSB7CiAgX3VwbG9hZEZpbGVzLAogIF91cGxvYWRGaWxlc0NvbnRpbnVlLAp9Owp9KShzZWxmKTsK",
              "ok": true,
              "headers": [
                [
                  "content-type",
                  "application/javascript"
                ]
              ],
              "status": 200,
              "status_text": ""
            }
          },
          "base_uri": "https://localhost:8080/",
          "height": 144
        },
        "id": "KpnjNTOZRwBb",
        "outputId": "bffc9dd4-0bd2-4a5d-fa26-6dc8c65cd954"
      },
      "source": [
        "from google.colab import files\n",
        "uploaded = files.upload()"
      ],
      "execution_count": 3,
      "outputs": [
        {
          "output_type": "display_data",
          "data": {
            "text/html": [
              "\n",
              "     <input type=\"file\" id=\"files-e6ab6247-99fb-4f3c-be67-c6b8782db532\" name=\"files[]\" multiple disabled\n",
              "        style=\"border:none\" />\n",
              "     <output id=\"result-e6ab6247-99fb-4f3c-be67-c6b8782db532\">\n",
              "      Upload widget is only available when the cell has been executed in the\n",
              "      current browser session. Please rerun this cell to enable.\n",
              "      </output>\n",
              "      <script src=\"/nbextensions/google.colab/files.js\"></script> "
            ],
            "text/plain": [
              "<IPython.core.display.HTML object>"
            ]
          },
          "metadata": {
            "tags": []
          }
        },
        {
          "output_type": "stream",
          "text": [
            "Saving test-B.tsv to test-B (2).tsv\n",
            "Saving train-B.tsv to train-B (2).tsv\n",
            "Saving valid-B.tsv to valid-B (2).tsv\n"
          ],
          "name": "stdout"
        }
      ]
    },
    {
      "cell_type": "code",
      "metadata": {
        "colab": {
          "base_uri": "https://localhost:8080/",
          "height": 407
        },
        "id": "Wqa7WuuFR19M",
        "outputId": "16950ab2-cb44-40f1-af49-6ded736a224b"
      },
      "source": [
        "train = pd.read_csv('train-B.tsv',encoding='utf8',sep='\\t',error_bad_lines=False)\n",
        "#train.index = train['id']\n",
        "#x_train = train['comment_text']\n",
        "#y_train = train.iloc[:, 2:]\n",
        "train"
      ],
      "execution_count": 4,
      "outputs": [
        {
          "output_type": "execute_result",
          "data": {
            "text/html": [
              "<div>\n",
              "<style scoped>\n",
              "    .dataframe tbody tr th:only-of-type {\n",
              "        vertical-align: middle;\n",
              "    }\n",
              "\n",
              "    .dataframe tbody tr th {\n",
              "        vertical-align: top;\n",
              "    }\n",
              "\n",
              "    .dataframe thead th {\n",
              "        text-align: right;\n",
              "    }\n",
              "</style>\n",
              "<table border=\"1\" class=\"dataframe\">\n",
              "  <thead>\n",
              "    <tr style=\"text-align: right;\">\n",
              "      <th></th>\n",
              "      <th>id</th>\n",
              "      <th>subtask_b</th>\n",
              "      <th>tweet</th>\n",
              "    </tr>\n",
              "  </thead>\n",
              "  <tbody>\n",
              "    <tr>\n",
              "      <th>0</th>\n",
              "      <td>90194</td>\n",
              "      <td>TIN</td>\n",
              "      <td>@USER @USER Go home youβre drunk!!! @USER #M...</td>\n",
              "    </tr>\n",
              "    <tr>\n",
              "      <th>1</th>\n",
              "      <td>97670</td>\n",
              "      <td>TIN</td>\n",
              "      <td>@USER Liberals are all Kookoo !!!</td>\n",
              "    </tr>\n",
              "    <tr>\n",
              "      <th>2</th>\n",
              "      <td>52415</td>\n",
              "      <td>TIN</td>\n",
              "      <td>@USER was literally just talking about this lo...</td>\n",
              "    </tr>\n",
              "    <tr>\n",
              "      <th>3</th>\n",
              "      <td>13384</td>\n",
              "      <td>TIN</td>\n",
              "      <td>@USER Canada doesnβt need another CUCK! We a...</td>\n",
              "    </tr>\n",
              "    <tr>\n",
              "      <th>4</th>\n",
              "      <td>28414</td>\n",
              "      <td>TIN</td>\n",
              "      <td>@USER you are a lying corrupt traitor!!! Nobod...</td>\n",
              "    </tr>\n",
              "    <tr>\n",
              "      <th>...</th>\n",
              "      <td>...</td>\n",
              "      <td>...</td>\n",
              "      <td>...</td>\n",
              "    </tr>\n",
              "    <tr>\n",
              "      <th>3749</th>\n",
              "      <td>16705</td>\n",
              "      <td>UNT</td>\n",
              "      <td>@USER @USER No no thatβs  shaq silver back l...</td>\n",
              "    </tr>\n",
              "    <tr>\n",
              "      <th>3750</th>\n",
              "      <td>84081</td>\n",
              "      <td>UNT</td>\n",
              "      <td>@USER Chris, Chris, Chris.... Are you forgetti...</td>\n",
              "    </tr>\n",
              "    <tr>\n",
              "      <th>3751</th>\n",
              "      <td>21033</td>\n",
              "      <td>UNT</td>\n",
              "      <td>@USER @USER oh shit you weren't joking... wtf</td>\n",
              "    </tr>\n",
              "    <tr>\n",
              "      <th>3752</th>\n",
              "      <td>61083</td>\n",
              "      <td>UNT</td>\n",
              "      <td>@USER βMy head is a fuckin eggβ</td>\n",
              "    </tr>\n",
              "    <tr>\n",
              "      <th>3753</th>\n",
              "      <td>27429</td>\n",
              "      <td>UNT</td>\n",
              "      <td>@USER Pussy</td>\n",
              "    </tr>\n",
              "  </tbody>\n",
              "</table>\n",
              "<p>3754 rows × 3 columns</p>\n",
              "</div>"
            ],
            "text/plain": [
              "         id subtask_b                                              tweet\n",
              "0     90194       TIN  @USER @USER Go home youβre drunk!!! @USER #M...\n",
              "1     97670       TIN                  @USER Liberals are all Kookoo !!!\n",
              "2     52415       TIN  @USER was literally just talking about this lo...\n",
              "3     13384       TIN  @USER Canada doesnβt need another CUCK! We a...\n",
              "4     28414       TIN  @USER you are a lying corrupt traitor!!! Nobod...\n",
              "...     ...       ...                                                ...\n",
              "3749  16705       UNT  @USER @USER No no thatβs  shaq silver back l...\n",
              "3750  84081       UNT  @USER Chris, Chris, Chris.... Are you forgetti...\n",
              "3751  21033       UNT      @USER @USER oh shit you weren't joking... wtf\n",
              "3752  61083       UNT                @USER βMy head is a fuckin eggβ\n",
              "3753  27429       UNT                                        @USER Pussy\n",
              "\n",
              "[3754 rows x 3 columns]"
            ]
          },
          "metadata": {
            "tags": []
          },
          "execution_count": 4
        }
      ]
    },
    {
      "cell_type": "code",
      "metadata": {
        "id": "yHvOL01aR2J1",
        "colab": {
          "base_uri": "https://localhost:8080/",
          "height": 407
        },
        "outputId": "b3b5e9ed-66b2-484a-dfad-8f78b7ff3148"
      },
      "source": [
        "test = pd.read_csv('valid-B.tsv',encoding='utf8',sep='\\t',error_bad_lines=False)\n",
        "#train.index = train['id']\n",
        "#x_train = train['comment_text']\n",
        "#y_train = train.iloc[:, 2:]\n",
        "test"
      ],
      "execution_count": 5,
      "outputs": [
        {
          "output_type": "execute_result",
          "data": {
            "text/html": [
              "<div>\n",
              "<style scoped>\n",
              "    .dataframe tbody tr th:only-of-type {\n",
              "        vertical-align: middle;\n",
              "    }\n",
              "\n",
              "    .dataframe tbody tr th {\n",
              "        vertical-align: top;\n",
              "    }\n",
              "\n",
              "    .dataframe thead th {\n",
              "        text-align: right;\n",
              "    }\n",
              "</style>\n",
              "<table border=\"1\" class=\"dataframe\">\n",
              "  <thead>\n",
              "    <tr style=\"text-align: right;\">\n",
              "      <th></th>\n",
              "      <th>id</th>\n",
              "      <th>subtask_b</th>\n",
              "      <th>tweet</th>\n",
              "    </tr>\n",
              "  </thead>\n",
              "  <tbody>\n",
              "    <tr>\n",
              "      <th>0</th>\n",
              "      <td>86426</td>\n",
              "      <td>UNT</td>\n",
              "      <td>@USER She should ask a few native Americans wh...</td>\n",
              "    </tr>\n",
              "    <tr>\n",
              "      <th>1</th>\n",
              "      <td>62688</td>\n",
              "      <td>UNT</td>\n",
              "      <td>@USER Someone should'veTaken\" this piece of sh...</td>\n",
              "    </tr>\n",
              "    <tr>\n",
              "      <th>2</th>\n",
              "      <td>77444</td>\n",
              "      <td>UNT</td>\n",
              "      <td>@USER @USER Oh noes! Tough shit.</td>\n",
              "    </tr>\n",
              "    <tr>\n",
              "      <th>3</th>\n",
              "      <td>25440</td>\n",
              "      <td>UNT</td>\n",
              "      <td>@USER @USER @USER She?  To whom are you referr...</td>\n",
              "    </tr>\n",
              "    <tr>\n",
              "      <th>4</th>\n",
              "      <td>66349</td>\n",
              "      <td>UNT</td>\n",
              "      <td>@USER it's literally a narrative that is on pa...</td>\n",
              "    </tr>\n",
              "    <tr>\n",
              "      <th>...</th>\n",
              "      <td>...</td>\n",
              "      <td>...</td>\n",
              "      <td>...</td>\n",
              "    </tr>\n",
              "    <tr>\n",
              "      <th>641</th>\n",
              "      <td>93164</td>\n",
              "      <td>TIN</td>\n",
              "      <td>@USER @USER Everything else was ten years ago....</td>\n",
              "    </tr>\n",
              "    <tr>\n",
              "      <th>642</th>\n",
              "      <td>63482</td>\n",
              "      <td>TIN</td>\n",
              "      <td>@USER is advocating for conduct within bounds ...</td>\n",
              "    </tr>\n",
              "    <tr>\n",
              "      <th>643</th>\n",
              "      <td>87416</td>\n",
              "      <td>TIN</td>\n",
              "      <td>@USER @USER @USER @USER Liars like the Antifa ...</td>\n",
              "    </tr>\n",
              "    <tr>\n",
              "      <th>644</th>\n",
              "      <td>95338</td>\n",
              "      <td>TIN</td>\n",
              "      <td>@USER Sometimes I get strong vibes from people...</td>\n",
              "    </tr>\n",
              "    <tr>\n",
              "      <th>645</th>\n",
              "      <td>82921</td>\n",
              "      <td>TIN</td>\n",
              "      <td>@USER And why report this garbage.  We don't g...</td>\n",
              "    </tr>\n",
              "  </tbody>\n",
              "</table>\n",
              "<p>646 rows × 3 columns</p>\n",
              "</div>"
            ],
            "text/plain": [
              "        id subtask_b                                              tweet\n",
              "0    86426       UNT  @USER She should ask a few native Americans wh...\n",
              "1    62688       UNT  @USER Someone should'veTaken\" this piece of sh...\n",
              "2    77444       UNT                   @USER @USER Oh noes! Tough shit.\n",
              "3    25440       UNT  @USER @USER @USER She?  To whom are you referr...\n",
              "4    66349       UNT  @USER it's literally a narrative that is on pa...\n",
              "..     ...       ...                                                ...\n",
              "641  93164       TIN  @USER @USER Everything else was ten years ago....\n",
              "642  63482       TIN  @USER is advocating for conduct within bounds ...\n",
              "643  87416       TIN  @USER @USER @USER @USER Liars like the Antifa ...\n",
              "644  95338       TIN  @USER Sometimes I get strong vibes from people...\n",
              "645  82921       TIN  @USER And why report this garbage.  We don't g...\n",
              "\n",
              "[646 rows x 3 columns]"
            ]
          },
          "metadata": {
            "tags": []
          },
          "execution_count": 5
        }
      ]
    },
    {
      "cell_type": "code",
      "metadata": {
        "colab": {
          "base_uri": "https://localhost:8080/",
          "height": 407
        },
        "id": "c-vMAEqTR2Ul",
        "outputId": "fd7f2264-03e5-41a3-f95a-05b332e35e3a"
      },
      "source": [
        "final_test_to_be_produced =  pd.read_csv('test-B.tsv',encoding='utf8',sep='\\t',error_bad_lines=False)\n",
        "#train.index = train['id']\n",
        "#x_train = train['comment_text']\n",
        "#y_train = train.iloc[:, 2:]\n",
        "final_test_to_be_produced"
      ],
      "execution_count": 6,
      "outputs": [
        {
          "output_type": "execute_result",
          "data": {
            "text/html": [
              "<div>\n",
              "<style scoped>\n",
              "    .dataframe tbody tr th:only-of-type {\n",
              "        vertical-align: middle;\n",
              "    }\n",
              "\n",
              "    .dataframe tbody tr th {\n",
              "        vertical-align: top;\n",
              "    }\n",
              "\n",
              "    .dataframe thead th {\n",
              "        text-align: right;\n",
              "    }\n",
              "</style>\n",
              "<table border=\"1\" class=\"dataframe\">\n",
              "  <thead>\n",
              "    <tr style=\"text-align: right;\">\n",
              "      <th></th>\n",
              "      <th>id</th>\n",
              "      <th>tweet</th>\n",
              "    </tr>\n",
              "  </thead>\n",
              "  <tbody>\n",
              "    <tr>\n",
              "      <th>0</th>\n",
              "      <td>15923</td>\n",
              "      <td>#WhoIsQ #WheresTheServer #DumpNike #DECLASFISA...</td>\n",
              "    </tr>\n",
              "    <tr>\n",
              "      <th>1</th>\n",
              "      <td>60133</td>\n",
              "      <td>#NoPasaran: Unity demo to oppose the far-right...</td>\n",
              "    </tr>\n",
              "    <tr>\n",
              "      <th>2</th>\n",
              "      <td>83681</td>\n",
              "      <td>. . . What the fuck did he do this time?</td>\n",
              "    </tr>\n",
              "    <tr>\n",
              "      <th>3</th>\n",
              "      <td>65507</td>\n",
              "      <td>@USER Do you get the feeling he is kissing @US...</td>\n",
              "    </tr>\n",
              "    <tr>\n",
              "      <th>4</th>\n",
              "      <td>12588</td>\n",
              "      <td>@USER Nigga ware da hits at</td>\n",
              "    </tr>\n",
              "    <tr>\n",
              "      <th>...</th>\n",
              "      <td>...</td>\n",
              "      <td>...</td>\n",
              "    </tr>\n",
              "    <tr>\n",
              "      <th>235</th>\n",
              "      <td>22569</td>\n",
              "      <td>#Antifa are mentally unstable cowards, pretend...</td>\n",
              "    </tr>\n",
              "    <tr>\n",
              "      <th>236</th>\n",
              "      <td>48938</td>\n",
              "      <td>@USER @USER And Browning looked like dog shit ...</td>\n",
              "    </tr>\n",
              "    <tr>\n",
              "      <th>237</th>\n",
              "      <td>41438</td>\n",
              "      <td>All two of them taste like ass. URL</td>\n",
              "    </tr>\n",
              "    <tr>\n",
              "      <th>238</th>\n",
              "      <td>73439</td>\n",
              "      <td>#DespicableDems lie again about rifles. Dem Di...</td>\n",
              "    </tr>\n",
              "    <tr>\n",
              "      <th>239</th>\n",
              "      <td>67018</td>\n",
              "      <td>3 people just unfollowed me for talking about ...</td>\n",
              "    </tr>\n",
              "  </tbody>\n",
              "</table>\n",
              "<p>240 rows × 2 columns</p>\n",
              "</div>"
            ],
            "text/plain": [
              "        id                                              tweet\n",
              "0    15923  #WhoIsQ #WheresTheServer #DumpNike #DECLASFISA...\n",
              "1    60133  #NoPasaran: Unity demo to oppose the far-right...\n",
              "2    83681           . . . What the fuck did he do this time?\n",
              "3    65507  @USER Do you get the feeling he is kissing @US...\n",
              "4    12588                        @USER Nigga ware da hits at\n",
              "..     ...                                                ...\n",
              "235  22569  #Antifa are mentally unstable cowards, pretend...\n",
              "236  48938  @USER @USER And Browning looked like dog shit ...\n",
              "237  41438                All two of them taste like ass. URL\n",
              "238  73439  #DespicableDems lie again about rifles. Dem Di...\n",
              "239  67018  3 people just unfollowed me for talking about ...\n",
              "\n",
              "[240 rows x 2 columns]"
            ]
          },
          "metadata": {
            "tags": []
          },
          "execution_count": 6
        }
      ]
    },
    {
      "cell_type": "code",
      "metadata": {
        "colab": {
          "base_uri": "https://localhost:8080/",
          "height": 407
        },
        "id": "YSJ8prqAR2XW",
        "outputId": "8d6bb774-6f3f-4920-91ba-a6cfe49945eb"
      },
      "source": [
        "final_test =  pd.read_csv('test-B.tsv',encoding='utf8',sep='\\t',error_bad_lines=False)\n",
        "#train.index = train['id']\n",
        "#x_train = train['comment_text']\n",
        "#y_train = train.iloc[:, 2:]\n",
        "final_test"
      ],
      "execution_count": 7,
      "outputs": [
        {
          "output_type": "execute_result",
          "data": {
            "text/html": [
              "<div>\n",
              "<style scoped>\n",
              "    .dataframe tbody tr th:only-of-type {\n",
              "        vertical-align: middle;\n",
              "    }\n",
              "\n",
              "    .dataframe tbody tr th {\n",
              "        vertical-align: top;\n",
              "    }\n",
              "\n",
              "    .dataframe thead th {\n",
              "        text-align: right;\n",
              "    }\n",
              "</style>\n",
              "<table border=\"1\" class=\"dataframe\">\n",
              "  <thead>\n",
              "    <tr style=\"text-align: right;\">\n",
              "      <th></th>\n",
              "      <th>id</th>\n",
              "      <th>tweet</th>\n",
              "    </tr>\n",
              "  </thead>\n",
              "  <tbody>\n",
              "    <tr>\n",
              "      <th>0</th>\n",
              "      <td>15923</td>\n",
              "      <td>#WhoIsQ #WheresTheServer #DumpNike #DECLASFISA...</td>\n",
              "    </tr>\n",
              "    <tr>\n",
              "      <th>1</th>\n",
              "      <td>60133</td>\n",
              "      <td>#NoPasaran: Unity demo to oppose the far-right...</td>\n",
              "    </tr>\n",
              "    <tr>\n",
              "      <th>2</th>\n",
              "      <td>83681</td>\n",
              "      <td>. . . What the fuck did he do this time?</td>\n",
              "    </tr>\n",
              "    <tr>\n",
              "      <th>3</th>\n",
              "      <td>65507</td>\n",
              "      <td>@USER Do you get the feeling he is kissing @US...</td>\n",
              "    </tr>\n",
              "    <tr>\n",
              "      <th>4</th>\n",
              "      <td>12588</td>\n",
              "      <td>@USER Nigga ware da hits at</td>\n",
              "    </tr>\n",
              "    <tr>\n",
              "      <th>...</th>\n",
              "      <td>...</td>\n",
              "      <td>...</td>\n",
              "    </tr>\n",
              "    <tr>\n",
              "      <th>235</th>\n",
              "      <td>22569</td>\n",
              "      <td>#Antifa are mentally unstable cowards, pretend...</td>\n",
              "    </tr>\n",
              "    <tr>\n",
              "      <th>236</th>\n",
              "      <td>48938</td>\n",
              "      <td>@USER @USER And Browning looked like dog shit ...</td>\n",
              "    </tr>\n",
              "    <tr>\n",
              "      <th>237</th>\n",
              "      <td>41438</td>\n",
              "      <td>All two of them taste like ass. URL</td>\n",
              "    </tr>\n",
              "    <tr>\n",
              "      <th>238</th>\n",
              "      <td>73439</td>\n",
              "      <td>#DespicableDems lie again about rifles. Dem Di...</td>\n",
              "    </tr>\n",
              "    <tr>\n",
              "      <th>239</th>\n",
              "      <td>67018</td>\n",
              "      <td>3 people just unfollowed me for talking about ...</td>\n",
              "    </tr>\n",
              "  </tbody>\n",
              "</table>\n",
              "<p>240 rows × 2 columns</p>\n",
              "</div>"
            ],
            "text/plain": [
              "        id                                              tweet\n",
              "0    15923  #WhoIsQ #WheresTheServer #DumpNike #DECLASFISA...\n",
              "1    60133  #NoPasaran: Unity demo to oppose the far-right...\n",
              "2    83681           . . . What the fuck did he do this time?\n",
              "3    65507  @USER Do you get the feeling he is kissing @US...\n",
              "4    12588                        @USER Nigga ware da hits at\n",
              "..     ...                                                ...\n",
              "235  22569  #Antifa are mentally unstable cowards, pretend...\n",
              "236  48938  @USER @USER And Browning looked like dog shit ...\n",
              "237  41438                All two of them taste like ass. URL\n",
              "238  73439  #DespicableDems lie again about rifles. Dem Di...\n",
              "239  67018  3 people just unfollowed me for talking about ...\n",
              "\n",
              "[240 rows x 2 columns]"
            ]
          },
          "metadata": {
            "tags": []
          },
          "execution_count": 7
        }
      ]
    },
    {
      "cell_type": "code",
      "metadata": {
        "id": "qjI-X1VXR2aE"
      },
      "source": [
        "del train['id']\n",
        "del test['id']\n",
        "del final_test['id']"
      ],
      "execution_count": 8,
      "outputs": []
    },
    {
      "cell_type": "code",
      "metadata": {
        "colab": {
          "base_uri": "https://localhost:8080/",
          "height": 407
        },
        "id": "E1G4WcetR2cy",
        "outputId": "51c3a2d0-534d-49dc-8962-b0c793ee8b0f"
      },
      "source": [
        "final_test"
      ],
      "execution_count": 9,
      "outputs": [
        {
          "output_type": "execute_result",
          "data": {
            "text/html": [
              "<div>\n",
              "<style scoped>\n",
              "    .dataframe tbody tr th:only-of-type {\n",
              "        vertical-align: middle;\n",
              "    }\n",
              "\n",
              "    .dataframe tbody tr th {\n",
              "        vertical-align: top;\n",
              "    }\n",
              "\n",
              "    .dataframe thead th {\n",
              "        text-align: right;\n",
              "    }\n",
              "</style>\n",
              "<table border=\"1\" class=\"dataframe\">\n",
              "  <thead>\n",
              "    <tr style=\"text-align: right;\">\n",
              "      <th></th>\n",
              "      <th>tweet</th>\n",
              "    </tr>\n",
              "  </thead>\n",
              "  <tbody>\n",
              "    <tr>\n",
              "      <th>0</th>\n",
              "      <td>#WhoIsQ #WheresTheServer #DumpNike #DECLASFISA...</td>\n",
              "    </tr>\n",
              "    <tr>\n",
              "      <th>1</th>\n",
              "      <td>#NoPasaran: Unity demo to oppose the far-right...</td>\n",
              "    </tr>\n",
              "    <tr>\n",
              "      <th>2</th>\n",
              "      <td>. . . What the fuck did he do this time?</td>\n",
              "    </tr>\n",
              "    <tr>\n",
              "      <th>3</th>\n",
              "      <td>@USER Do you get the feeling he is kissing @US...</td>\n",
              "    </tr>\n",
              "    <tr>\n",
              "      <th>4</th>\n",
              "      <td>@USER Nigga ware da hits at</td>\n",
              "    </tr>\n",
              "    <tr>\n",
              "      <th>...</th>\n",
              "      <td>...</td>\n",
              "    </tr>\n",
              "    <tr>\n",
              "      <th>235</th>\n",
              "      <td>#Antifa are mentally unstable cowards, pretend...</td>\n",
              "    </tr>\n",
              "    <tr>\n",
              "      <th>236</th>\n",
              "      <td>@USER @USER And Browning looked like dog shit ...</td>\n",
              "    </tr>\n",
              "    <tr>\n",
              "      <th>237</th>\n",
              "      <td>All two of them taste like ass. URL</td>\n",
              "    </tr>\n",
              "    <tr>\n",
              "      <th>238</th>\n",
              "      <td>#DespicableDems lie again about rifles. Dem Di...</td>\n",
              "    </tr>\n",
              "    <tr>\n",
              "      <th>239</th>\n",
              "      <td>3 people just unfollowed me for talking about ...</td>\n",
              "    </tr>\n",
              "  </tbody>\n",
              "</table>\n",
              "<p>240 rows × 1 columns</p>\n",
              "</div>"
            ],
            "text/plain": [
              "                                                 tweet\n",
              "0    #WhoIsQ #WheresTheServer #DumpNike #DECLASFISA...\n",
              "1    #NoPasaran: Unity demo to oppose the far-right...\n",
              "2             . . . What the fuck did he do this time?\n",
              "3    @USER Do you get the feeling he is kissing @US...\n",
              "4                          @USER Nigga ware da hits at\n",
              "..                                                 ...\n",
              "235  #Antifa are mentally unstable cowards, pretend...\n",
              "236  @USER @USER And Browning looked like dog shit ...\n",
              "237                All two of them taste like ass. URL\n",
              "238  #DespicableDems lie again about rifles. Dem Di...\n",
              "239  3 people just unfollowed me for talking about ...\n",
              "\n",
              "[240 rows x 1 columns]"
            ]
          },
          "metadata": {
            "tags": []
          },
          "execution_count": 9
        }
      ]
    },
    {
      "cell_type": "code",
      "metadata": {
        "colab": {
          "base_uri": "https://localhost:8080/"
        },
        "id": "mjWg8ObjR2fs",
        "outputId": "b83c81da-5d74-4b3c-f7a0-38543c033226"
      },
      "source": [
        "train.isnull().sum()"
      ],
      "execution_count": 10,
      "outputs": [
        {
          "output_type": "execute_result",
          "data": {
            "text/plain": [
              "subtask_b    0\n",
              "tweet        0\n",
              "dtype: int64"
            ]
          },
          "metadata": {
            "tags": []
          },
          "execution_count": 10
        }
      ]
    },
    {
      "cell_type": "code",
      "metadata": {
        "id": "Ox2zp6aJSPY8"
      },
      "source": [
        "train = train.dropna(how='any')"
      ],
      "execution_count": 11,
      "outputs": []
    },
    {
      "cell_type": "code",
      "metadata": {
        "colab": {
          "base_uri": "https://localhost:8080/"
        },
        "id": "WQNI0iiugY5X",
        "outputId": "72055128-7647-44a6-b2b4-407da6c055b1"
      },
      "source": [
        "!pip install emoji"
      ],
      "execution_count": 12,
      "outputs": [
        {
          "output_type": "stream",
          "text": [
            "Requirement already satisfied: emoji in /usr/local/lib/python3.7/dist-packages (1.2.0)\n"
          ],
          "name": "stdout"
        }
      ]
    },
    {
      "cell_type": "code",
      "metadata": {
        "id": "m20MrIYpSPbz"
      },
      "source": [
        "import emoji\n",
        "\n",
        "def remove_emoji(text):\n",
        "    return emoji.get_emoji_regexp().sub(u'', text)"
      ],
      "execution_count": 13,
      "outputs": []
    },
    {
      "cell_type": "code",
      "metadata": {
        "id": "E4MnAOnnSPes"
      },
      "source": [
        "def tokens(x):\n",
        "    a = ' '.join(i for i in x.split() if not (i.isalpha() and len(i)==1))\n",
        "    return a"
      ],
      "execution_count": 14,
      "outputs": []
    },
    {
      "cell_type": "code",
      "metadata": {
        "colab": {
          "base_uri": "https://localhost:8080/",
          "height": 407
        },
        "id": "hzS5s3IcSPhJ",
        "outputId": "ad356489-4b8c-4d27-f321-6e56719ebf98"
      },
      "source": [
        "train"
      ],
      "execution_count": 15,
      "outputs": [
        {
          "output_type": "execute_result",
          "data": {
            "text/html": [
              "<div>\n",
              "<style scoped>\n",
              "    .dataframe tbody tr th:only-of-type {\n",
              "        vertical-align: middle;\n",
              "    }\n",
              "\n",
              "    .dataframe tbody tr th {\n",
              "        vertical-align: top;\n",
              "    }\n",
              "\n",
              "    .dataframe thead th {\n",
              "        text-align: right;\n",
              "    }\n",
              "</style>\n",
              "<table border=\"1\" class=\"dataframe\">\n",
              "  <thead>\n",
              "    <tr style=\"text-align: right;\">\n",
              "      <th></th>\n",
              "      <th>subtask_b</th>\n",
              "      <th>tweet</th>\n",
              "    </tr>\n",
              "  </thead>\n",
              "  <tbody>\n",
              "    <tr>\n",
              "      <th>0</th>\n",
              "      <td>TIN</td>\n",
              "      <td>@USER @USER Go home youβre drunk!!! @USER #M...</td>\n",
              "    </tr>\n",
              "    <tr>\n",
              "      <th>1</th>\n",
              "      <td>TIN</td>\n",
              "      <td>@USER Liberals are all Kookoo !!!</td>\n",
              "    </tr>\n",
              "    <tr>\n",
              "      <th>2</th>\n",
              "      <td>TIN</td>\n",
              "      <td>@USER was literally just talking about this lo...</td>\n",
              "    </tr>\n",
              "    <tr>\n",
              "      <th>3</th>\n",
              "      <td>TIN</td>\n",
              "      <td>@USER Canada doesnβt need another CUCK! We a...</td>\n",
              "    </tr>\n",
              "    <tr>\n",
              "      <th>4</th>\n",
              "      <td>TIN</td>\n",
              "      <td>@USER you are a lying corrupt traitor!!! Nobod...</td>\n",
              "    </tr>\n",
              "    <tr>\n",
              "      <th>...</th>\n",
              "      <td>...</td>\n",
              "      <td>...</td>\n",
              "    </tr>\n",
              "    <tr>\n",
              "      <th>3749</th>\n",
              "      <td>UNT</td>\n",
              "      <td>@USER @USER No no thatβs  shaq silver back l...</td>\n",
              "    </tr>\n",
              "    <tr>\n",
              "      <th>3750</th>\n",
              "      <td>UNT</td>\n",
              "      <td>@USER Chris, Chris, Chris.... Are you forgetti...</td>\n",
              "    </tr>\n",
              "    <tr>\n",
              "      <th>3751</th>\n",
              "      <td>UNT</td>\n",
              "      <td>@USER @USER oh shit you weren't joking... wtf</td>\n",
              "    </tr>\n",
              "    <tr>\n",
              "      <th>3752</th>\n",
              "      <td>UNT</td>\n",
              "      <td>@USER βMy head is a fuckin eggβ</td>\n",
              "    </tr>\n",
              "    <tr>\n",
              "      <th>3753</th>\n",
              "      <td>UNT</td>\n",
              "      <td>@USER Pussy</td>\n",
              "    </tr>\n",
              "  </tbody>\n",
              "</table>\n",
              "<p>3754 rows × 2 columns</p>\n",
              "</div>"
            ],
            "text/plain": [
              "     subtask_b                                              tweet\n",
              "0          TIN  @USER @USER Go home youβre drunk!!! @USER #M...\n",
              "1          TIN                  @USER Liberals are all Kookoo !!!\n",
              "2          TIN  @USER was literally just talking about this lo...\n",
              "3          TIN  @USER Canada doesnβt need another CUCK! We a...\n",
              "4          TIN  @USER you are a lying corrupt traitor!!! Nobod...\n",
              "...        ...                                                ...\n",
              "3749       UNT  @USER @USER No no thatβs  shaq silver back l...\n",
              "3750       UNT  @USER Chris, Chris, Chris.... Are you forgetti...\n",
              "3751       UNT      @USER @USER oh shit you weren't joking... wtf\n",
              "3752       UNT                @USER βMy head is a fuckin eggβ\n",
              "3753       UNT                                        @USER Pussy\n",
              "\n",
              "[3754 rows x 2 columns]"
            ]
          },
          "metadata": {
            "tags": []
          },
          "execution_count": 15
        }
      ]
    },
    {
      "cell_type": "code",
      "metadata": {
        "id": "0PB9zD7XSPj_",
        "colab": {
          "base_uri": "https://localhost:8080/"
        },
        "outputId": "433a49db-83da-4067-92a1-01490b453cbd"
      },
      "source": [
        "#train data\n",
        "new_train=[]\n",
        "new_trains=[]\n",
        "modified_train=[]\n",
        "texts_train = train['tweet'].values # texts contrain all setences\n",
        "for i in range(len(texts_train)):\n",
        "    modified_train.append(tokens(texts_train[i]))\n",
        "texts_train= modified_train\n",
        "texts_train = [s.lower() for s in texts_train if not len(s)==1] # convert to lower case \n",
        "#texts_train = [word for word in texts_traintrain if word.isalpha()]\n",
        "table = str.maketrans('', '', string.punctuation)\n",
        "texts_train = [w.translate(table) for w in texts_train]\n",
        "for i in range(len(texts_train)):\n",
        "    a = remove_emoji(texts_train[i])\n",
        "    new_train.append(a)\n",
        "texts_train = new_train\n",
        "for i in range(len(texts_train)):\n",
        "    a = texts_train[i].split(\"https\", 1)[0]\n",
        "    new_trains.append(a)\n",
        "texts_train = new_trains\n",
        "texts_train = [s.strip(' ') for s in texts_train]\n",
        "print(len(texts_train))\n",
        "print(texts_train[:2])"
      ],
      "execution_count": 16,
      "outputs": [
        {
          "output_type": "stream",
          "text": [
            "3754\n",
            "['user user go home youβ\\x80\\x99re drunk user maga trump2020 π\\x9f\\x91\\x8aπ\\x9f\\x87ίπ\\x9f\\x87έπ\\x9f\\x91\\x8a url', 'user liberals are all kookoo']\n"
          ],
          "name": "stdout"
        }
      ]
    },
    {
      "cell_type": "code",
      "metadata": {
        "colab": {
          "base_uri": "https://localhost:8080/"
        },
        "id": "19r9Lf7tSPmg",
        "outputId": "74b30a6c-35e7-46bc-d0b1-9cc46d84f0e6"
      },
      "source": [
        "#validation data\n",
        "new_train=[]\n",
        "new_trains=[]\n",
        "modified_train=[]\n",
        "texts_test = test['tweet'].values # texts contrain all setences\n",
        "for i in range(len(texts_test)):\n",
        "    modified_train.append(tokens(texts_test[i]))\n",
        "texts_test= modified_train\n",
        "texts_test = [s.lower() for s in texts_test] # convert to lower case\n",
        "table = str.maketrans('', '', string.punctuation)\n",
        "texts_test = [w.translate(table) for w in texts_test]\n",
        "for i in range(len(texts_test)):\n",
        "    a = remove_emoji(texts_test[i])\n",
        "    new_train.append(a)\n",
        "texts_test = new_train\n",
        "for i in range(len(texts_test)):\n",
        "    a = texts_test[i].split(\"https\", 1)[0]\n",
        "    new_trains.append(a)\n",
        "texts_test = new_trains\n",
        "texts_test = [s.strip(' ') for s in texts_test]\n",
        "print(len(texts_test))\n",
        "print(texts_test[:2])"
      ],
      "execution_count": 17,
      "outputs": [
        {
          "output_type": "stream",
          "text": [
            "646\n",
            "['user she should ask few native americans what their take on this is', 'user someone shouldvetaken this piece of shit to volcano π\\x9f\\x98\\x82']\n"
          ],
          "name": "stdout"
        }
      ]
    },
    {
      "cell_type": "code",
      "metadata": {
        "colab": {
          "base_uri": "https://localhost:8080/"
        },
        "id": "F8vtU1vjSPpX",
        "outputId": "f1324bd5-9650-4f90-bcd3-527a712ed7bc"
      },
      "source": [
        "#test data\n",
        "new_train=[]\n",
        "new_trains=[]\n",
        "modified_train=[]\n",
        "texts_final_test = final_test['tweet'].values # texts contrain all setences\n",
        "for i in range(len(texts_final_test)):\n",
        "    modified_train.append(tokens(texts_final_test[i]))\n",
        "texts_final_test= modified_train\n",
        "texts_final_test = [s.lower() for s in texts_final_test] # convert to lower case \n",
        "#texts_train = [word for word in texts_traintrain if word.isalpha()]\n",
        "table = str.maketrans('', '', string.punctuation)\n",
        "texts_final_test = [w.translate(table) for w in texts_final_test]\n",
        "for i in range(len(texts_final_test)):\n",
        "    a = remove_emoji(texts_final_test[i])\n",
        "    new_train.append(a)\n",
        "texts_final_test = new_train\n",
        "for i in range(len(texts_final_test)):\n",
        "    a = texts_final_test[i].split(\"https\", 1)[0]\n",
        "    new_trains.append(a)\n",
        "texts_final_test = new_trains\n",
        "texts_final_test = [s.strip(' ') for s in texts_final_test]\n",
        "print(len(texts_final_test))\n",
        "print(texts_final_test[:2])"
      ],
      "execution_count": 18,
      "outputs": [
        {
          "output_type": "stream",
          "text": [
            "240\n",
            "['whoisq wherestheserver dumpnike declasfisa democrats support antifa muslim brotherhood ms13 isis pedophilia child trafficking taxpayer funded abortion’s election fraud sedition and treason lockthemallup wwg1wga qanon \\u2066user url', 'nopasaran unity demo to oppose the farright in london – antifa oct13 — enough is enough url']\n"
          ],
          "name": "stdout"
        }
      ]
    },
    {
      "cell_type": "code",
      "metadata": {
        "id": "WSpNTeDaiMMW"
      },
      "source": [
        "final_test.insert (1, 2, 'NAN')"
      ],
      "execution_count": 19,
      "outputs": []
    },
    {
      "cell_type": "code",
      "metadata": {
        "colab": {
          "base_uri": "https://localhost:8080/",
          "height": 407
        },
        "id": "uA-PFQVCSPsS",
        "outputId": "b65700c0-ff10-4cb4-d165-4604fd5c2124"
      },
      "source": [
        "\n",
        "final_test"
      ],
      "execution_count": 20,
      "outputs": [
        {
          "output_type": "execute_result",
          "data": {
            "text/html": [
              "<div>\n",
              "<style scoped>\n",
              "    .dataframe tbody tr th:only-of-type {\n",
              "        vertical-align: middle;\n",
              "    }\n",
              "\n",
              "    .dataframe tbody tr th {\n",
              "        vertical-align: top;\n",
              "    }\n",
              "\n",
              "    .dataframe thead th {\n",
              "        text-align: right;\n",
              "    }\n",
              "</style>\n",
              "<table border=\"1\" class=\"dataframe\">\n",
              "  <thead>\n",
              "    <tr style=\"text-align: right;\">\n",
              "      <th></th>\n",
              "      <th>tweet</th>\n",
              "      <th>2</th>\n",
              "    </tr>\n",
              "  </thead>\n",
              "  <tbody>\n",
              "    <tr>\n",
              "      <th>0</th>\n",
              "      <td>#WhoIsQ #WheresTheServer #DumpNike #DECLASFISA...</td>\n",
              "      <td>NAN</td>\n",
              "    </tr>\n",
              "    <tr>\n",
              "      <th>1</th>\n",
              "      <td>#NoPasaran: Unity demo to oppose the far-right...</td>\n",
              "      <td>NAN</td>\n",
              "    </tr>\n",
              "    <tr>\n",
              "      <th>2</th>\n",
              "      <td>. . . What the fuck did he do this time?</td>\n",
              "      <td>NAN</td>\n",
              "    </tr>\n",
              "    <tr>\n",
              "      <th>3</th>\n",
              "      <td>@USER Do you get the feeling he is kissing @US...</td>\n",
              "      <td>NAN</td>\n",
              "    </tr>\n",
              "    <tr>\n",
              "      <th>4</th>\n",
              "      <td>@USER Nigga ware da hits at</td>\n",
              "      <td>NAN</td>\n",
              "    </tr>\n",
              "    <tr>\n",
              "      <th>...</th>\n",
              "      <td>...</td>\n",
              "      <td>...</td>\n",
              "    </tr>\n",
              "    <tr>\n",
              "      <th>235</th>\n",
              "      <td>#Antifa are mentally unstable cowards, pretend...</td>\n",
              "      <td>NAN</td>\n",
              "    </tr>\n",
              "    <tr>\n",
              "      <th>236</th>\n",
              "      <td>@USER @USER And Browning looked like dog shit ...</td>\n",
              "      <td>NAN</td>\n",
              "    </tr>\n",
              "    <tr>\n",
              "      <th>237</th>\n",
              "      <td>All two of them taste like ass. URL</td>\n",
              "      <td>NAN</td>\n",
              "    </tr>\n",
              "    <tr>\n",
              "      <th>238</th>\n",
              "      <td>#DespicableDems lie again about rifles. Dem Di...</td>\n",
              "      <td>NAN</td>\n",
              "    </tr>\n",
              "    <tr>\n",
              "      <th>239</th>\n",
              "      <td>3 people just unfollowed me for talking about ...</td>\n",
              "      <td>NAN</td>\n",
              "    </tr>\n",
              "  </tbody>\n",
              "</table>\n",
              "<p>240 rows × 2 columns</p>\n",
              "</div>"
            ],
            "text/plain": [
              "                                                 tweet    2\n",
              "0    #WhoIsQ #WheresTheServer #DumpNike #DECLASFISA...  NAN\n",
              "1    #NoPasaran: Unity demo to oppose the far-right...  NAN\n",
              "2             . . . What the fuck did he do this time?  NAN\n",
              "3    @USER Do you get the feeling he is kissing @US...  NAN\n",
              "4                          @USER Nigga ware da hits at  NAN\n",
              "..                                                 ...  ...\n",
              "235  #Antifa are mentally unstable cowards, pretend...  NAN\n",
              "236  @USER @USER And Browning looked like dog shit ...  NAN\n",
              "237                All two of them taste like ass. URL  NAN\n",
              "238  #DespicableDems lie again about rifles. Dem Di...  NAN\n",
              "239  3 people just unfollowed me for talking about ...  NAN\n",
              "\n",
              "[240 rows x 2 columns]"
            ]
          },
          "metadata": {
            "tags": []
          },
          "execution_count": 20
        }
      ]
    },
    {
      "cell_type": "code",
      "metadata": {
        "id": "PtbKxbiKSyL6"
      },
      "source": [
        "final_test = final_test[[2,'tweet']]"
      ],
      "execution_count": 21,
      "outputs": []
    },
    {
      "cell_type": "code",
      "metadata": {
        "id": "2oR1NuF3SyPM"
      },
      "source": [
        "all_dfs = [train,test,final_test]\n",
        "for df in all_dfs:\n",
        "    df.columns = ['subtask_b', 'tweet']\n",
        "all_dfs = pd.concat(all_dfs).reset_index(drop=True)"
      ],
      "execution_count": 22,
      "outputs": []
    },
    {
      "cell_type": "code",
      "metadata": {
        "colab": {
          "base_uri": "https://localhost:8080/"
        },
        "id": "aSPLfgdaSyR9",
        "outputId": "00b44ba6-e5d3-403d-8dbf-fbf7b48c070b"
      },
      "source": [
        "all_dfs\n",
        "len(all_dfs)"
      ],
      "execution_count": 23,
      "outputs": [
        {
          "output_type": "execute_result",
          "data": {
            "text/plain": [
              "4640"
            ]
          },
          "metadata": {
            "tags": []
          },
          "execution_count": 23
        }
      ]
    },
    {
      "cell_type": "code",
      "metadata": {
        "colab": {
          "base_uri": "https://localhost:8080/"
        },
        "id": "RUxGPTrfSyUw",
        "outputId": "8b812315-6727-4e52-99d5-c2d09b8acf8a"
      },
      "source": [
        "new_dataset=[]\n",
        "new_datasets=[]\n",
        "modified_train=[]\n",
        "texts_total_dataset = all_dfs['tweet'].values # texts contrain all setences\n",
        "for i in range(len(texts_total_dataset)):\n",
        "    modified_train.append(tokens(texts_total_dataset[i]))\n",
        "texts_total_dataset= modified_train\n",
        "texts_total_dataset = [s.lower() for s in texts_total_dataset] # convert to lower case \n",
        "table = str.maketrans('', '', string.punctuation)\n",
        "texts_total_dataset = [w.translate(table) for w in texts_total_dataset]\n",
        "for i in range(len(texts_total_dataset)):\n",
        "    a = remove_emoji(texts_total_dataset[i])\n",
        "    new_dataset.append(a)\n",
        "texts_total_dataset = new_dataset\n",
        "for i in range(len(texts_total_dataset)):\n",
        "    a = texts_total_dataset[i].split(\"https\", 1)[0]\n",
        "    new_datasets.append(a)\n",
        "texts_total_dataset = new_datasets\n",
        "texts_total_dataset = [s.strip(' ') for s in texts_total_dataset]\n",
        "print(len(texts_total_dataset))\n",
        "print(texts_total_dataset[:2])"
      ],
      "execution_count": 24,
      "outputs": [
        {
          "output_type": "stream",
          "text": [
            "4640\n",
            "['user user go home youβ\\x80\\x99re drunk user maga trump2020 π\\x9f\\x91\\x8aπ\\x9f\\x87ίπ\\x9f\\x87έπ\\x9f\\x91\\x8a url', 'user liberals are all kookoo']\n"
          ],
          "name": "stdout"
        }
      ]
    },
    {
      "cell_type": "code",
      "metadata": {
        "id": "TRrqLtxVSyZK"
      },
      "source": [
        "with open('listfile.txt', 'w') as filehandle:\n",
        "    for listitem in texts_total_dataset:\n",
        "        filehandle.write('%s\\n' % listitem)"
      ],
      "execution_count": 25,
      "outputs": []
    },
    {
      "cell_type": "code",
      "metadata": {
        "id": "jf6WOW2TTePk"
      },
      "source": [
        "from keras.preprocessing.text import Tokenizer\n",
        "from keras.preprocessing.sequence import pad_sequences"
      ],
      "execution_count": 26,
      "outputs": []
    },
    {
      "cell_type": "code",
      "metadata": {
        "id": "ibWMR1VTTehj"
      },
      "source": [
        "# Initialization\n",
        "tk = Tokenizer(num_words=None, char_level=True, oov_token='UNK')\n",
        "# Fitting\n",
        "tk.fit_on_texts(texts_total_dataset)"
      ],
      "execution_count": 27,
      "outputs": []
    },
    {
      "cell_type": "code",
      "metadata": {
        "colab": {
          "base_uri": "https://localhost:8080/"
        },
        "id": "8czj3GD6SyoP",
        "outputId": "1fac9a82-8509-4af4-cbf1-f32b90acd950"
      },
      "source": [
        "# List the vocabulary\n",
        "tk.word_index"
      ],
      "execution_count": 28,
      "outputs": [
        {
          "output_type": "execute_result",
          "data": {
            "text/plain": [
              "{' ': 2,\n",
              " '0': 34,\n",
              " '1': 35,\n",
              " '2': 36,\n",
              " '3': 48,\n",
              " '4': 46,\n",
              " '5': 45,\n",
              " '6': 57,\n",
              " '7': 58,\n",
              " '8': 54,\n",
              " '9': 49,\n",
              " 'UNK': 1,\n",
              " 'a': 7,\n",
              " 'b': 22,\n",
              " 'c': 15,\n",
              " 'd': 14,\n",
              " 'e': 3,\n",
              " 'f': 21,\n",
              " 'g': 17,\n",
              " 'h': 12,\n",
              " 'i': 9,\n",
              " 'j': 28,\n",
              " 'k': 23,\n",
              " 'l': 13,\n",
              " 'm': 16,\n",
              " 'n': 10,\n",
              " 'o': 6,\n",
              " 'p': 19,\n",
              " 'q': 38,\n",
              " 'r': 8,\n",
              " 's': 4,\n",
              " 't': 5,\n",
              " 'u': 11,\n",
              " 'v': 24,\n",
              " 'w': 20,\n",
              " 'x': 31,\n",
              " 'y': 18,\n",
              " 'z': 32,\n",
              " '\\x80': 26,\n",
              " '\\x81': 75,\n",
              " '\\x82': 40,\n",
              " '\\x83': 103,\n",
              " '\\x84': 66,\n",
              " '\\x86': 67,\n",
              " '\\x87': 37,\n",
              " '\\x88': 82,\n",
              " '\\x89': 74,\n",
              " '\\x8a': 79,\n",
              " '\\x8b': 96,\n",
              " '\\x8c': 83,\n",
              " '\\x8d': 55,\n",
              " '\\x8e': 76,\n",
              " '\\x8f': 42,\n",
              " '\\x90': 71,\n",
              " '\\x91': 50,\n",
              " '\\x92': 56,\n",
              " '\\x93': 68,\n",
              " '\\x94': 59,\n",
              " '\\x95': 73,\n",
              " '\\x96': 70,\n",
              " '\\x97': 85,\n",
              " '\\x98': 33,\n",
              " '\\x99': 27,\n",
              " '\\x9a': 88,\n",
              " '\\x9b': 91,\n",
              " '\\x9c': 44,\n",
              " '\\x9d': 41,\n",
              " '\\x9e': 90,\n",
              " '\\x9f': 30,\n",
              " '£': 51,\n",
              " '¦': 61,\n",
              " '§': 87,\n",
              " '¨': 80,\n",
              " '«': 94,\n",
              " '¬': 78,\n",
              " '\\xad': 60,\n",
              " '±': 95,\n",
              " '²': 109,\n",
              " '³': 92,\n",
              " '·': 65,\n",
              " '»': 72,\n",
              " '½': 69,\n",
              " '΄': 100,\n",
              " '΅': 101,\n",
              " 'ά': 99,\n",
              " 'έ': 43,\n",
              " 'ή': 93,\n",
              " 'ί': 47,\n",
              " 'β': 25,\n",
              " 'γ': 89,\n",
              " 'ο': 52,\n",
              " 'π': 29,\n",
              " 'ό': 62,\n",
              " 'ύ': 77,\n",
              " 'ώ': 102,\n",
              " '–': 104,\n",
              " '—': 108,\n",
              " '―': 84,\n",
              " '‘': 63,\n",
              " '’': 53,\n",
              " '“': 97,\n",
              " '”': 105,\n",
              " '•': 106,\n",
              " '…': 98,\n",
              " '\\u2066': 110,\n",
              " '\\uf1a4': 39,\n",
              " '\\uf1a5': 64,\n",
              " '\\uf1aa': 81,\n",
              " '\\uf1ae': 86,\n",
              " '️': 107}"
            ]
          },
          "metadata": {
            "tags": []
          },
          "execution_count": 28
        }
      ]
    },
    {
      "cell_type": "code",
      "metadata": {
        "colab": {
          "base_uri": "https://localhost:8080/"
        },
        "id": "rvy70CBISPwt",
        "outputId": "fe32e8b4-8a05-4c7e-c3b6-574cb0050948"
      },
      "source": [
        "sequences_train = tk.texts_to_sequences(texts_train)\n",
        "print(texts_train[0])\n",
        "print(sequences_train[0])"
      ],
      "execution_count": 29,
      "outputs": [
        {
          "output_type": "stream",
          "text": [
            "user user go home youβre drunk user maga trump2020 ππίπέπ url\n",
            "[11, 4, 3, 8, 2, 11, 4, 3, 8, 2, 17, 6, 2, 12, 6, 16, 3, 2, 18, 6, 11, 25, 26, 27, 8, 3, 2, 14, 8, 11, 10, 23, 2, 11, 4, 3, 8, 2, 16, 7, 17, 7, 2, 5, 8, 11, 16, 19, 36, 34, 36, 34, 2, 29, 30, 50, 79, 29, 30, 37, 47, 29, 30, 37, 43, 29, 30, 50, 79, 2, 11, 8, 13]\n"
          ],
          "name": "stdout"
        }
      ]
    },
    {
      "cell_type": "code",
      "metadata": {
        "colab": {
          "base_uri": "https://localhost:8080/"
        },
        "id": "kIlKNLrZR2kG",
        "outputId": "6ec00507-ce14-4a90-fe9e-a4055200526d"
      },
      "source": [
        "sequences_test = tk.texts_to_sequences(texts_test)\n",
        "print(texts_test[0])\n",
        "print(sequences_test[0])"
      ],
      "execution_count": 30,
      "outputs": [
        {
          "output_type": "stream",
          "text": [
            "user she should ask few native americans what their take on this is\n",
            "[11, 4, 3, 8, 2, 4, 12, 3, 2, 4, 12, 6, 11, 13, 14, 2, 7, 4, 23, 2, 21, 3, 20, 2, 10, 7, 5, 9, 24, 3, 2, 7, 16, 3, 8, 9, 15, 7, 10, 4, 2, 20, 12, 7, 5, 2, 5, 12, 3, 9, 8, 2, 5, 7, 23, 3, 2, 6, 10, 2, 5, 12, 9, 4, 2, 9, 4]\n"
          ],
          "name": "stdout"
        }
      ]
    },
    {
      "cell_type": "code",
      "metadata": {
        "colab": {
          "base_uri": "https://localhost:8080/"
        },
        "id": "tASYEFBZT0Ul",
        "outputId": "3e1ae3e6-172d-4f7c-c553-94e256e00b9c"
      },
      "source": [
        "sequences_final_test = tk.texts_to_sequences(texts_final_test)\n",
        "print(texts_final_test[0])\n",
        "print(sequences_final_test[0])"
      ],
      "execution_count": 31,
      "outputs": [
        {
          "output_type": "stream",
          "text": [
            "whoisq wherestheserver dumpnike declasfisa democrats support antifa muslim brotherhood ms13 isis pedophilia child trafficking taxpayer funded abortion’s election fraud sedition and treason lockthemallup wwg1wga qanon ⁦user url\n",
            "[20, 12, 6, 9, 4, 38, 2, 20, 12, 3, 8, 3, 4, 5, 12, 3, 4, 3, 8, 24, 3, 8, 2, 14, 11, 16, 19, 10, 9, 23, 3, 2, 14, 3, 15, 13, 7, 4, 21, 9, 4, 7, 2, 14, 3, 16, 6, 15, 8, 7, 5, 4, 2, 4, 11, 19, 19, 6, 8, 5, 2, 7, 10, 5, 9, 21, 7, 2, 16, 11, 4, 13, 9, 16, 2, 22, 8, 6, 5, 12, 3, 8, 12, 6, 6, 14, 2, 16, 4, 35, 48, 2, 9, 4, 9, 4, 2, 19, 3, 14, 6, 19, 12, 9, 13, 9, 7, 2, 15, 12, 9, 13, 14, 2, 5, 8, 7, 21, 21, 9, 15, 23, 9, 10, 17, 2, 5, 7, 31, 19, 7, 18, 3, 8, 2, 21, 11, 10, 14, 3, 14, 2, 7, 22, 6, 8, 5, 9, 6, 10, 53, 4, 2, 3, 13, 3, 15, 5, 9, 6, 10, 2, 21, 8, 7, 11, 14, 2, 4, 3, 14, 9, 5, 9, 6, 10, 2, 7, 10, 14, 2, 5, 8, 3, 7, 4, 6, 10, 2, 13, 6, 15, 23, 5, 12, 3, 16, 7, 13, 13, 11, 19, 2, 20, 20, 17, 35, 20, 17, 7, 2, 38, 7, 10, 6, 10, 2, 110, 11, 4, 3, 8, 2, 11, 8, 13]\n"
          ],
          "name": "stdout"
        }
      ]
    },
    {
      "cell_type": "code",
      "metadata": {
        "colab": {
          "base_uri": "https://localhost:8080/"
        },
        "id": "wsNoBONMT0Xf",
        "outputId": "83bbf282-ccf6-43c3-c893-625ab081c2f4"
      },
      "source": [
        "sequences_total_dataset = tk.texts_to_sequences(texts_total_dataset)\n",
        "print(texts_total_dataset[0])\n",
        "print(sequences_total_dataset[0])"
      ],
      "execution_count": 32,
      "outputs": [
        {
          "output_type": "stream",
          "text": [
            "user user go home youβre drunk user maga trump2020 ππίπέπ url\n",
            "[11, 4, 3, 8, 2, 11, 4, 3, 8, 2, 17, 6, 2, 12, 6, 16, 3, 2, 18, 6, 11, 25, 26, 27, 8, 3, 2, 14, 8, 11, 10, 23, 2, 11, 4, 3, 8, 2, 16, 7, 17, 7, 2, 5, 8, 11, 16, 19, 36, 34, 36, 34, 2, 29, 30, 50, 79, 29, 30, 37, 47, 29, 30, 37, 43, 29, 30, 50, 79, 2, 11, 8, 13]\n"
          ],
          "name": "stdout"
        }
      ]
    },
    {
      "cell_type": "code",
      "metadata": {
        "colab": {
          "base_uri": "https://localhost:8080/"
        },
        "id": "kOOLSRTcT0al",
        "outputId": "3e0d805a-e361-49d7-da58-4ff09cb35a09"
      },
      "source": [
        "# List top 5 sentence length\n",
        "for i, s in enumerate(sequences_total_dataset):\n",
        "    print(len(s))\n",
        "    if i > 4:\n",
        "        break"
      ],
      "execution_count": 33,
      "outputs": [
        {
          "output_type": "stream",
          "text": [
            "73\n",
            "28\n",
            "176\n",
            "131\n",
            "100\n",
            "64\n"
          ],
          "name": "stdout"
        }
      ]
    },
    {
      "cell_type": "code",
      "metadata": {
        "id": "kl-HMe5QT0dL"
      },
      "source": [
        "lens=[]\n",
        "for i, s in enumerate(sequences_total_dataset):\n",
        "    l=len(s)\n",
        "    lens.append(l)\n",
        "    "
      ],
      "execution_count": 34,
      "outputs": []
    },
    {
      "cell_type": "code",
      "metadata": {
        "id": "NPQOl3LcT0g4",
        "colab": {
          "base_uri": "https://localhost:8080/"
        },
        "outputId": "da05cc4d-67e1-45cb-f62d-926a7ceecc2a"
      },
      "source": [
        "#To get the maximum length sentence which will be used to pad the sequence\n",
        "max(lens)"
      ],
      "execution_count": 35,
      "outputs": [
        {
          "output_type": "execute_result",
          "data": {
            "text/plain": [
              "526"
            ]
          },
          "metadata": {
            "tags": []
          },
          "execution_count": 35
        }
      ]
    },
    {
      "cell_type": "code",
      "metadata": {
        "id": "HXdFA388T0i1"
      },
      "source": [
        "data_train = pad_sequences(sequences_train, maxlen=2165, padding='post')\n",
        "data_test = pad_sequences(sequences_test, maxlen=2165, padding='post')\n",
        "data_final_test = pad_sequences(sequences_final_test, maxlen=2165, padding='post')"
      ],
      "execution_count": 36,
      "outputs": []
    },
    {
      "cell_type": "code",
      "metadata": {
        "colab": {
          "base_uri": "https://localhost:8080/"
        },
        "id": "hYcHExqMT0nV",
        "outputId": "62dd312e-090d-4eef-c24e-985ee77fb44e"
      },
      "source": [
        "data_train = np.array(data_train)\n",
        "data_train.shape # All sentence length are 1014"
      ],
      "execution_count": 37,
      "outputs": [
        {
          "output_type": "execute_result",
          "data": {
            "text/plain": [
              "(3754, 2165)"
            ]
          },
          "metadata": {
            "tags": []
          },
          "execution_count": 37
        }
      ]
    },
    {
      "cell_type": "code",
      "metadata": {
        "colab": {
          "base_uri": "https://localhost:8080/"
        },
        "id": "GOaxXpq0T0yL",
        "outputId": "018e7af0-a6c4-4118-c7d3-e76ddbc0ddb2"
      },
      "source": [
        "data_final_test = np.array(data_final_test)\n",
        "data_final_test.shape # All sentence length are 1014"
      ],
      "execution_count": 38,
      "outputs": [
        {
          "output_type": "execute_result",
          "data": {
            "text/plain": [
              "(240, 2165)"
            ]
          },
          "metadata": {
            "tags": []
          },
          "execution_count": 38
        }
      ]
    },
    {
      "cell_type": "code",
      "metadata": {
        "colab": {
          "base_uri": "https://localhost:8080/"
        },
        "id": "dhBaNiYjT01B",
        "outputId": "8720ae79-0bf8-4e8b-83ee-07de2093f36f"
      },
      "source": [
        "data_test = np.array(data_test)\n",
        "data_test.shape # All sentence length are 1014"
      ],
      "execution_count": 39,
      "outputs": [
        {
          "output_type": "execute_result",
          "data": {
            "text/plain": [
              "(646, 2165)"
            ]
          },
          "metadata": {
            "tags": []
          },
          "execution_count": 39
        }
      ]
    },
    {
      "cell_type": "code",
      "metadata": {
        "colab": {
          "base_uri": "https://localhost:8080/"
        },
        "id": "DPi0QQr6T04W",
        "outputId": "5a7d0c01-491b-4f70-ffdf-4103a5a22c0e"
      },
      "source": [
        "train['subtask_b'].unique()"
      ],
      "execution_count": 40,
      "outputs": [
        {
          "output_type": "execute_result",
          "data": {
            "text/plain": [
              "array(['TIN', 'UNT'], dtype=object)"
            ]
          },
          "metadata": {
            "tags": []
          },
          "execution_count": 40
        }
      ]
    },
    {
      "cell_type": "code",
      "metadata": {
        "colab": {
          "base_uri": "https://localhost:8080/"
        },
        "id": "M-Qx1-q3T08s",
        "outputId": "99d9ce40-24a6-4fc8-add9-ef664d17e28b"
      },
      "source": [
        "train['subtask_b'] == 'TIN'"
      ],
      "execution_count": 41,
      "outputs": [
        {
          "output_type": "execute_result",
          "data": {
            "text/plain": [
              "0        True\n",
              "1        True\n",
              "2        True\n",
              "3        True\n",
              "4        True\n",
              "        ...  \n",
              "3749    False\n",
              "3750    False\n",
              "3751    False\n",
              "3752    False\n",
              "3753    False\n",
              "Name: subtask_b, Length: 3754, dtype: bool"
            ]
          },
          "metadata": {
            "tags": []
          },
          "execution_count": 41
        }
      ]
    },
    {
      "cell_type": "code",
      "metadata": {
        "colab": {
          "base_uri": "https://localhost:8080/"
        },
        "id": "-LPxMJ5WVWoS",
        "outputId": "df60beab-4182-42e1-c095-5de1b28e8d60"
      },
      "source": [
        "print(train['subtask_b'].unique()) # how many unique classes\n",
        "train['subtask_b'] = np.where(train['subtask_b'] == 'UNT', 0, 1)\n",
        "print(train['subtask_b'].unique()) # how many unique classes\n",
        "class_list = train['subtask_b'].values\n",
        "print(len(class_list)) # how many length\n",
        "print(class_list[:10]) # print top 10 samples classes"
      ],
      "execution_count": 42,
      "outputs": [
        {
          "output_type": "stream",
          "text": [
            "['TIN' 'UNT']\n",
            "[1 0]\n",
            "3754\n",
            "[1 1 1 1 1 1 1 1 1 1]\n"
          ],
          "name": "stdout"
        }
      ]
    },
    {
      "cell_type": "code",
      "metadata": {
        "colab": {
          "base_uri": "https://localhost:8080/"
        },
        "id": "TurX0NroVWq2",
        "outputId": "153ee10c-3eaf-41bd-95e8-ef2ae1761e70"
      },
      "source": [
        "print(test['subtask_b'].unique()) # how many unique classes\n",
        "test['subtask_b'] = np.where(test['subtask_b'] == 'UNT', 0, 1)\n",
        "print(test['subtask_b'].unique()) # how many unique classes\n",
        "class_list_test = test['subtask_b'].values\n",
        "print(len(class_list_test)) # how many length\n",
        "print(class_list_test[:10]) # print top 10 samples classes"
      ],
      "execution_count": 43,
      "outputs": [
        {
          "output_type": "stream",
          "text": [
            "['UNT' 'TIN']\n",
            "[0 1]\n",
            "646\n",
            "[0 0 0 0 0 0 0 0 0 0]\n"
          ],
          "name": "stdout"
        }
      ]
    },
    {
      "cell_type": "code",
      "metadata": {
        "colab": {
          "base_uri": "https://localhost:8080/"
        },
        "id": "ujuHVOt6VWth",
        "outputId": "3a464d96-99d3-468c-a982-0648603a9659"
      },
      "source": [
        "print(sequences_train[0][:160])\n",
        "print()\n",
        "print(data_train[0][:160])"
      ],
      "execution_count": 44,
      "outputs": [
        {
          "output_type": "stream",
          "text": [
            "[11, 4, 3, 8, 2, 11, 4, 3, 8, 2, 17, 6, 2, 12, 6, 16, 3, 2, 18, 6, 11, 25, 26, 27, 8, 3, 2, 14, 8, 11, 10, 23, 2, 11, 4, 3, 8, 2, 16, 7, 17, 7, 2, 5, 8, 11, 16, 19, 36, 34, 36, 34, 2, 29, 30, 50, 79, 29, 30, 37, 47, 29, 30, 37, 43, 29, 30, 50, 79, 2, 11, 8, 13]\n",
            "\n",
            "[11  4  3  8  2 11  4  3  8  2 17  6  2 12  6 16  3  2 18  6 11 25 26 27\n",
            "  8  3  2 14  8 11 10 23  2 11  4  3  8  2 16  7 17  7  2  5  8 11 16 19\n",
            " 36 34 36 34  2 29 30 50 79 29 30 37 47 29 30 37 43 29 30 50 79  2 11  8\n",
            " 13  0  0  0  0  0  0  0  0  0  0  0  0  0  0  0  0  0  0  0  0  0  0  0\n",
            "  0  0  0  0  0  0  0  0  0  0  0  0  0  0  0  0  0  0  0  0  0  0  0  0\n",
            "  0  0  0  0  0  0  0  0  0  0  0  0  0  0  0  0  0  0  0  0  0  0  0  0\n",
            "  0  0  0  0  0  0  0  0  0  0  0  0  0  0  0  0]\n"
          ],
          "name": "stdout"
        }
      ]
    },
    {
      "cell_type": "code",
      "metadata": {
        "colab": {
          "base_uri": "https://localhost:8080/"
        },
        "id": "eSKRN7a8VWwS",
        "outputId": "aa7c49a5-0a98-489c-b88a-48e757d3ae8c"
      },
      "source": [
        "from keras.utils.np_utils import to_categorical\n",
        "classes = to_categorical(class_list)\n",
        "print(class_list[:10])\n",
        "print(classes[:10])"
      ],
      "execution_count": 45,
      "outputs": [
        {
          "output_type": "stream",
          "text": [
            "[1 1 1 1 1 1 1 1 1 1]\n",
            "[[0. 1.]\n",
            " [0. 1.]\n",
            " [0. 1.]\n",
            " [0. 1.]\n",
            " [0. 1.]\n",
            " [0. 1.]\n",
            " [0. 1.]\n",
            " [0. 1.]\n",
            " [0. 1.]\n",
            " [0. 1.]]\n"
          ],
          "name": "stdout"
        }
      ]
    },
    {
      "cell_type": "code",
      "metadata": {
        "colab": {
          "base_uri": "https://localhost:8080/"
        },
        "id": "5HH1G0odVWy9",
        "outputId": "7037b4f7-fc45-45dd-b90c-443b8ca43c5d"
      },
      "source": [
        "from keras.utils.np_utils import to_categorical\n",
        "classes_test = to_categorical(class_list_test)\n",
        "print(class_list_test[:10])\n",
        "print(classes_test[:10])"
      ],
      "execution_count": 46,
      "outputs": [
        {
          "output_type": "stream",
          "text": [
            "[0 0 0 0 0 0 0 0 0 0]\n",
            "[[1. 0.]\n",
            " [1. 0.]\n",
            " [1. 0.]\n",
            " [1. 0.]\n",
            " [1. 0.]\n",
            " [1. 0.]\n",
            " [1. 0.]\n",
            " [1. 0.]\n",
            " [1. 0.]\n",
            " [1. 0.]]\n"
          ],
          "name": "stdout"
        }
      ]
    },
    {
      "cell_type": "code",
      "metadata": {
        "id": "MiLhvh4zVW3v"
      },
      "source": [
        "x_train, x_test, y_train, y_test = data_train,data_test,classes,classes_test"
      ],
      "execution_count": 47,
      "outputs": []
    },
    {
      "cell_type": "code",
      "metadata": {
        "colab": {
          "base_uri": "https://localhost:8080/"
        },
        "id": "YoCtfGynVW5Z",
        "outputId": "3253c252-089b-4475-9606-25c81a688ad6"
      },
      "source": [
        "x_train.shape\n",
        "y_train.shape"
      ],
      "execution_count": 48,
      "outputs": [
        {
          "output_type": "execute_result",
          "data": {
            "text/plain": [
              "(3754, 2)"
            ]
          },
          "metadata": {
            "tags": []
          },
          "execution_count": 48
        }
      ]
    },
    {
      "cell_type": "code",
      "metadata": {
        "colab": {
          "base_uri": "https://localhost:8080/"
        },
        "id": "RlG-gudbVW8u",
        "outputId": "7be1af3f-1a0c-4abf-d82a-5d95a743df78"
      },
      "source": [
        "vocab_size = len(tk.word_index)\n",
        "vocab_size"
      ],
      "execution_count": 49,
      "outputs": [
        {
          "output_type": "execute_result",
          "data": {
            "text/plain": [
              "110"
            ]
          },
          "metadata": {
            "tags": []
          },
          "execution_count": 49
        }
      ]
    },
    {
      "cell_type": "code",
      "metadata": {
        "id": "bGVvUZw_VXFO"
      },
      "source": [
        "embedding_weights = [] #(71, 70)\n",
        "embedding_weights.append(np.zeros(vocab_size)) # first row is pad\n",
        "\n",
        "for char, i in tk.word_index.items(): # from index 1 to 70\n",
        "    onehot = np.zeros(vocab_size)\n",
        "    onehot[i-1] = 1\n",
        "    embedding_weights.append(onehot)\n",
        "embedding_weights = np.array(embedding_weights)"
      ],
      "execution_count": 50,
      "outputs": []
    },
    {
      "cell_type": "code",
      "metadata": {
        "colab": {
          "base_uri": "https://localhost:8080/"
        },
        "id": "cNpQllvwWFDl",
        "outputId": "d437c8bd-c2c8-442e-8953-665eb28302d8"
      },
      "source": [
        "embedding_weights.shape"
      ],
      "execution_count": 51,
      "outputs": [
        {
          "output_type": "execute_result",
          "data": {
            "text/plain": [
              "(111, 110)"
            ]
          },
          "metadata": {
            "tags": []
          },
          "execution_count": 51
        }
      ]
    },
    {
      "cell_type": "code",
      "metadata": {
        "id": "EBGgxqZCWFGM"
      },
      "source": [
        "from keras.layers import Input, Embedding, Activation, Flatten, Dense\n",
        "from keras.layers import Conv1D, MaxPooling1D, Dropout,LSTM,Conv2D\n",
        "from keras.models import Model\n",
        "from keras.layers import Bidirectional"
      ],
      "execution_count": 63,
      "outputs": []
    },
    {
      "cell_type": "code",
      "metadata": {
        "id": "KgehKz5dWFI9"
      },
      "source": [
        "# parameter \n",
        "input_size = 2165\n",
        "# vocab_size = 69\n",
        "embedding_size = 110\n",
        "conv_layers = [[128, 7, 3],\n",
        "               [128, 7, 3], \n",
        "              [128, 3, -1], \n",
        "               [128, 3, -1]]\n",
        "\n",
        "fully_connected_layers = [1024, 1024]\n",
        "num_of_classes = 2\n",
        "dropout_p = 0.4\n",
        "optimizer = 'adam'\n",
        "loss = 'categorical_crossentropy'"
      ],
      "execution_count": 64,
      "outputs": []
    },
    {
      "cell_type": "code",
      "metadata": {
        "id": "Q2ffhh-mWFMA"
      },
      "source": [
        "# Embedding layer Initialization\n",
        "embedding_layer = Embedding(vocab_size+1, \n",
        "                            embedding_size,\n",
        "                            input_length=input_size,\n",
        "                            weights=[embedding_weights],trainable=True)"
      ],
      "execution_count": 65,
      "outputs": []
    },
    {
      "cell_type": "code",
      "metadata": {
        "id": "9bB84c1aWFO2"
      },
      "source": [
        "#three# Attention GRU network\t\t \n",
        "from keras import backend as K\n",
        "from keras.engine.topology import Layer, InputSpec\n",
        "from keras import initializers\n",
        "class AttLayer(Layer):\n",
        "    def __init__(self, **kwargs):\n",
        "        self.init = initializers.get('normal')\n",
        "        #self.input_spec = [InputSpec(ndim=3)]\n",
        "        super(AttLayer, self).__init__(**kwargs)\n",
        "\n",
        "    def build(self, input_shape):\n",
        "        #print(input_shape)\n",
        "        assert len(input_shape)==3\n",
        "        #self.W = self.init((input_shape[-1],1))\n",
        "        self.W = self.init((input_shape[-1],))\n",
        "        #self.input_spec = [InputSpec(shape=input_shape)]\n",
        "        #self.trainable_weights = [self.W]\n",
        "        self.W = self.add_weight(name='W', \n",
        "                                      shape=(input_shape[-1],),\n",
        "                                      initializer='uniform',\n",
        "                                      trainable=True)\n",
        "        super(AttLayer, self).build(input_shape)  # be sure you call this somewhere!\n",
        "\n",
        "    def call(self, x, mask=None):\n",
        "        eij = K.tanh(K.squeeze(K.dot(x, K.expand_dims(self.W)), axis=-1))\n",
        "        #eij=K.tanh(K.dot(x, K.expand_dims(self.W)))\n",
        "        print(eij.shape)\n",
        "        \n",
        "        ai = K.exp(eij)\n",
        "        weights = ai/K.expand_dims(K.sum(ai, axis=1),1)#ai/K.sum(ai, axis=1).dimshuffle(0,'x')\n",
        "        \n",
        "        weighted_input =  x*K.expand_dims(weights,2)#x*weights.dimshuffle(0,1,'x')\n",
        "        print(weighted_input.shape)\n",
        "        sum_1 = K.sum(weighted_input, axis=1)\n",
        "#         print(sum_1.shape)\n",
        "        return sum_1#weighted_input.sum(axis=1)\n",
        "\n",
        "    def compute_output_shape(self, input_shape):\n",
        "        return (input_shape[0], input_shape[-1])"
      ],
      "execution_count": 66,
      "outputs": []
    },
    {
      "cell_type": "code",
      "metadata": {
        "colab": {
          "base_uri": "https://localhost:8080/"
        },
        "id": "IDY-JMg0WFRn",
        "outputId": "5ec1b32b-a877-4497-be12-4b9a5ef0c49d"
      },
      "source": [
        "from keras.layers.merge import concatenate\n",
        "from keras import regularizers\n",
        "sequence_input = Input(shape=(input_size,), dtype='int32')\n",
        "#print(sequence_input.shape)\n",
        "embedded_sequences = embedding_layer(sequence_input)\n",
        "conv = Conv1D(filters=32, kernel_size=3, activation='relu')(embedded_sequences)\n",
        "maxp = MaxPooling1D(pool_size=3)(conv)\n",
        "conv1 = Conv1D(filters=32, kernel_size=3, activation='relu')(maxp)\n",
        "maxp1 = MaxPooling1D(pool_size=3)(conv1)\n",
        "#conv2 = Conv1D(filters=32, kernel_size=3, activation='relu')(maxp1)\n",
        "#print(embedded_sequences.shape)\n",
        "l_gru = Bidirectional(LSTM(20))(maxp1)\n",
        "l_gru = LSTM(100,return_sequences=True)(maxp1)\n",
        "#print(l_gru.shape)\n",
        "l_att = AttLayer()(l_gru)\n",
        "#l_gru1 = Bidirectional(LSTM(100, return_sequences=True))(embedded_sequences)\n",
        "#l_att1 = AttLayer()(l_gru1)\n",
        "#conca = concatenate([l_att, l_att1])\n",
        "preds = Dense(32, activation='tanh')(l_att)\n",
        "preds = Dropout(0.5)(preds)\n",
        "predss=Dense(2, activation='softmax')(preds)\n",
        "#print(predss.shape)\n",
        "model = Model(inputs=sequence_input, outputs=predss)\n",
        "model.compile(loss='categorical_crossentropy',\n",
        "              optimizer='adam',\n",
        "              metrics=['acc'])\n",
        "model.summary()"
      ],
      "execution_count": 67,
      "outputs": [
        {
          "output_type": "stream",
          "text": [
            "(None, 239)\n",
            "(None, 239, 100)\n",
            "Model: \"model_1\"\n",
            "_________________________________________________________________\n",
            "Layer (type)                 Output Shape              Param #   \n",
            "=================================================================\n",
            "input_2 (InputLayer)         [(None, 2165)]            0         \n",
            "_________________________________________________________________\n",
            "embedding_1 (Embedding)      (None, 2165, 110)         12210     \n",
            "_________________________________________________________________\n",
            "conv1d_2 (Conv1D)            (None, 2163, 32)          10592     \n",
            "_________________________________________________________________\n",
            "max_pooling1d_2 (MaxPooling1 (None, 721, 32)           0         \n",
            "_________________________________________________________________\n",
            "conv1d_3 (Conv1D)            (None, 719, 32)           3104      \n",
            "_________________________________________________________________\n",
            "max_pooling1d_3 (MaxPooling1 (None, 239, 32)           0         \n",
            "_________________________________________________________________\n",
            "lstm_3 (LSTM)                (None, 239, 100)          53200     \n",
            "_________________________________________________________________\n",
            "att_layer_1 (AttLayer)       (None, 100)               100       \n",
            "_________________________________________________________________\n",
            "dense_2 (Dense)              (None, 32)                3232      \n",
            "_________________________________________________________________\n",
            "dropout_1 (Dropout)          (None, 32)                0         \n",
            "_________________________________________________________________\n",
            "dense_3 (Dense)              (None, 2)                 66        \n",
            "=================================================================\n",
            "Total params: 82,504\n",
            "Trainable params: 82,504\n",
            "Non-trainable params: 0\n",
            "_________________________________________________________________\n"
          ],
          "name": "stdout"
        }
      ]
    },
    {
      "cell_type": "code",
      "metadata": {
        "id": "iXYIGJWMWFUm"
      },
      "source": [
        "class_weight = {0: 80.,\n",
        "                1: 10.}"
      ],
      "execution_count": 80,
      "outputs": []
    },
    {
      "cell_type": "code",
      "metadata": {
        "colab": {
          "base_uri": "https://localhost:8080/"
        },
        "id": "vZbcjmtKWFXT",
        "outputId": "8124d416-f59c-4661-b65c-196279246519"
      },
      "source": [
        "# Training\n",
        "model.fit(x_train, y_train,\n",
        "          validation_data=(x_test, y_test),\n",
        "          batch_size=10,\n",
        "          epochs=6,\n",
        "          verbose=1,\n",
        "          class_weight=class_weight)"
      ],
      "execution_count": 81,
      "outputs": [
        {
          "output_type": "stream",
          "text": [
            "Epoch 1/6\n",
            "376/376 [==============================] - 7s 19ms/step - loss: 9.6243 - acc: 0.7619 - val_loss: 0.6089 - val_acc: 0.6811\n",
            "Epoch 2/6\n",
            "376/376 [==============================] - 7s 18ms/step - loss: 9.2188 - acc: 0.7834 - val_loss: 0.5737 - val_acc: 0.7276\n",
            "Epoch 3/6\n",
            "376/376 [==============================] - 7s 18ms/step - loss: 9.0753 - acc: 0.7592 - val_loss: 0.5982 - val_acc: 0.6780\n",
            "Epoch 4/6\n",
            "376/376 [==============================] - 7s 18ms/step - loss: 8.5731 - acc: 0.7874 - val_loss: 0.6347 - val_acc: 0.6796\n",
            "Epoch 5/6\n",
            "376/376 [==============================] - 7s 18ms/step - loss: 8.2127 - acc: 0.7680 - val_loss: 0.7098 - val_acc: 0.6471\n",
            "Epoch 6/6\n",
            "376/376 [==============================] - 7s 18ms/step - loss: 7.7287 - acc: 0.7981 - val_loss: 0.6568 - val_acc: 0.7028\n"
          ],
          "name": "stdout"
        },
        {
          "output_type": "execute_result",
          "data": {
            "text/plain": [
              "<keras.callbacks.History at 0x7f014c6cd890>"
            ]
          },
          "metadata": {
            "tags": []
          },
          "execution_count": 81
        }
      ]
    },
    {
      "cell_type": "code",
      "metadata": {
        "colab": {
          "base_uri": "https://localhost:8080/"
        },
        "id": "oRLMox5HWFaU",
        "outputId": "c323f843-070b-48f0-ab31-682fceec7bad"
      },
      "source": [
        "# save model and architecture to single file\n",
        "model.save(\"model.h5\")\n",
        "print(\"Saved model to disk\")"
      ],
      "execution_count": 82,
      "outputs": [
        {
          "output_type": "stream",
          "text": [
            "Saved model to disk\n"
          ],
          "name": "stdout"
        }
      ]
    },
    {
      "cell_type": "code",
      "metadata": {
        "id": "onV14cY4WFhr"
      },
      "source": [
        "import numpy as np\n",
        "from sklearn import metrics\n",
        "from sklearn.metrics import classification_report, confusion_matrix  \n",
        "from sklearn.metrics import accuracy_score\n",
        "def evaluation(): \n",
        "    # predict class with test set\n",
        "    y_pred_test =  model.predict(x_test, batch_size=10, verbose=0)\n",
        "    class_list=[]\n",
        "    for i in range(len(y_pred_test)):\n",
        "        class_list.append(np.argmax(y_pred_test[i]))\n",
        "    y_pred_test = np.asarray(class_list)\n",
        "    print('Accuracy:\\t{:0.1f}%'.format(accuracy_score(np.argmax(y_test,axis=1),y_pred_test)*100))\n",
        "    \n",
        "    #classification report\n",
        "    print('\\n')\n",
        "    print(classification_report(np.argmax(y_test,axis=1), y_pred_test))\n",
        "\n",
        "    #confusion matrix\n",
        "    confmat = confusion_matrix(np.argmax(y_test,axis=1), y_pred_test)\n",
        "    print(\"The Confusion matrix is: -\")\n",
        "    print(confmat)\n",
        "    return y_pred_test"
      ],
      "execution_count": 83,
      "outputs": []
    },
    {
      "cell_type": "code",
      "metadata": {
        "colab": {
          "base_uri": "https://localhost:8080/"
        },
        "id": "E5afjbieWFpg",
        "outputId": "1d7720c0-3d2c-4024-8212-f67ebce30621"
      },
      "source": [
        "#This code is written to call the function which will evalute the test data based on the system\n",
        "y_pred = evaluation()\n",
        "#print(y_pred)"
      ],
      "execution_count": 84,
      "outputs": [
        {
          "output_type": "stream",
          "text": [
            "Accuracy:\t70.3%\n",
            "\n",
            "\n",
            "              precision    recall  f1-score   support\n",
            "\n",
            "           0       0.39      0.26      0.31       168\n",
            "           1       0.77      0.86      0.81       478\n",
            "\n",
            "    accuracy                           0.70       646\n",
            "   macro avg       0.58      0.56      0.56       646\n",
            "weighted avg       0.67      0.70      0.68       646\n",
            "\n",
            "The Confusion matrix is: -\n",
            "[[ 43 125]\n",
            " [ 67 411]]\n"
          ],
          "name": "stdout"
        }
      ]
    },
    {
      "cell_type": "code",
      "metadata": {
        "colab": {
          "base_uri": "https://localhost:8080/",
          "height": 407
        },
        "id": "IJ_Y1KxTXn2O",
        "outputId": "3e7458bd-af8c-47ff-b1ab-2a1fb985b3d3"
      },
      "source": [
        "test"
      ],
      "execution_count": 92,
      "outputs": [
        {
          "output_type": "execute_result",
          "data": {
            "text/html": [
              "<div>\n",
              "<style scoped>\n",
              "    .dataframe tbody tr th:only-of-type {\n",
              "        vertical-align: middle;\n",
              "    }\n",
              "\n",
              "    .dataframe tbody tr th {\n",
              "        vertical-align: top;\n",
              "    }\n",
              "\n",
              "    .dataframe thead th {\n",
              "        text-align: right;\n",
              "    }\n",
              "</style>\n",
              "<table border=\"1\" class=\"dataframe\">\n",
              "  <thead>\n",
              "    <tr style=\"text-align: right;\">\n",
              "      <th></th>\n",
              "      <th>subtask_a</th>\n",
              "      <th>tweet</th>\n",
              "    </tr>\n",
              "  </thead>\n",
              "  <tbody>\n",
              "    <tr>\n",
              "      <th>0</th>\n",
              "      <td>0</td>\n",
              "      <td>@USER Gun control is  omportant. It should not...</td>\n",
              "    </tr>\n",
              "    <tr>\n",
              "      <th>1</th>\n",
              "      <td>0</td>\n",
              "      <td>@USER Antifa girl of the month centrefold!</td>\n",
              "    </tr>\n",
              "    <tr>\n",
              "      <th>2</th>\n",
              "      <td>1</td>\n",
              "      <td>@USER @USER @USER @USER Tweet is directed at h...</td>\n",
              "    </tr>\n",
              "    <tr>\n",
              "      <th>3</th>\n",
              "      <td>0</td>\n",
              "      <td>@USER Oh well yes goes without saying you are ...</td>\n",
              "    </tr>\n",
              "    <tr>\n",
              "      <th>4</th>\n",
              "      <td>0</td>\n",
              "      <td>@USER Good!!! MAGA</td>\n",
              "    </tr>\n",
              "    <tr>\n",
              "      <th>...</th>\n",
              "      <td>...</td>\n",
              "      <td>...</td>\n",
              "    </tr>\n",
              "    <tr>\n",
              "      <th>2636</th>\n",
              "      <td>1</td>\n",
              "      <td>@USER Sometimes I get strong vibes from people...</td>\n",
              "    </tr>\n",
              "    <tr>\n",
              "      <th>2637</th>\n",
              "      <td>0</td>\n",
              "      <td>Benidorm ✅  Creamfields ✅  Maga ✅   Not too sh...</td>\n",
              "    </tr>\n",
              "    <tr>\n",
              "      <th>2638</th>\n",
              "      <td>1</td>\n",
              "      <td>@USER And why report this garbage.  We don't g...</td>\n",
              "    </tr>\n",
              "    <tr>\n",
              "      <th>2639</th>\n",
              "      <td>1</td>\n",
              "      <td>@USER Pussy</td>\n",
              "    </tr>\n",
              "    <tr>\n",
              "      <th>2640</th>\n",
              "      <td>0</td>\n",
              "      <td>#Spanishrevenge vs. #justice #HumanRights and ...</td>\n",
              "    </tr>\n",
              "  </tbody>\n",
              "</table>\n",
              "<p>2641 rows × 2 columns</p>\n",
              "</div>"
            ],
            "text/plain": [
              "      subtask_a                                              tweet\n",
              "0             0  @USER Gun control is  omportant. It should not...\n",
              "1             0         @USER Antifa girl of the month centrefold!\n",
              "2             1  @USER @USER @USER @USER Tweet is directed at h...\n",
              "3             0  @USER Oh well yes goes without saying you are ...\n",
              "4             0                                 @USER Good!!! MAGA\n",
              "...         ...                                                ...\n",
              "2636          1  @USER Sometimes I get strong vibes from people...\n",
              "2637          0  Benidorm ✅  Creamfields ✅  Maga ✅   Not too sh...\n",
              "2638          1  @USER And why report this garbage.  We don't g...\n",
              "2639          1                                        @USER Pussy\n",
              "2640          0  #Spanishrevenge vs. #justice #HumanRights and ...\n",
              "\n",
              "[2641 rows x 2 columns]"
            ]
          },
          "metadata": {
            "tags": []
          },
          "execution_count": 92
        }
      ]
    },
    {
      "cell_type": "code",
      "metadata": {
        "colab": {
          "base_uri": "https://localhost:8080/"
        },
        "id": "qZauYMnMXn5A",
        "outputId": "a43883f2-533b-41a6-91ca-3af302137126"
      },
      "source": [
        "x_test"
      ],
      "execution_count": 93,
      "outputs": [
        {
          "output_type": "execute_result",
          "data": {
            "text/plain": [
              "array([[11,  4,  3, ...,  0,  0,  0],\n",
              "       [11,  4,  3, ...,  0,  0,  0],\n",
              "       [11,  4,  3, ...,  0,  0,  0],\n",
              "       ...,\n",
              "       [11,  4,  3, ...,  0,  0,  0],\n",
              "       [11,  4,  3, ...,  0,  0,  0],\n",
              "       [ 4, 20,  8, ...,  0,  0,  0]], dtype=int32)"
            ]
          },
          "metadata": {
            "tags": []
          },
          "execution_count": 93
        }
      ]
    },
    {
      "cell_type": "code",
      "metadata": {
        "id": "LHQMLYUgXn7u",
        "colab": {
          "base_uri": "https://localhost:8080/"
        },
        "outputId": "4401ba42-2866-4dd5-a72b-500fc653484a"
      },
      "source": [
        "y_final_pred = model.predict(data_final_test, batch_size=10, verbose=0)"
      ],
      "execution_count": 94,
      "outputs": [
        {
          "output_type": "stream",
          "text": [
            "(10, 239)\n",
            "(10, 239, 100)\n"
          ],
          "name": "stdout"
        }
      ]
    },
    {
      "cell_type": "code",
      "metadata": {
        "id": "qhnPWylEXn-h"
      },
      "source": [
        "class_list=[]\n",
        "for i in range(len(y_final_pred)):\n",
        "        class_list.append(np.argmax(y_final_pred[i]))\n",
        "y_final_pred = np.asarray(class_list)"
      ],
      "execution_count": 95,
      "outputs": []
    },
    {
      "cell_type": "code",
      "metadata": {
        "colab": {
          "base_uri": "https://localhost:8080/"
        },
        "id": "4KfyBi32XoBX",
        "outputId": "a8039f86-4a03-41a4-b095-f2f296deb6c8"
      },
      "source": [
        "y_final_pred[0:10]"
      ],
      "execution_count": 96,
      "outputs": [
        {
          "output_type": "execute_result",
          "data": {
            "text/plain": [
              "array([1, 0, 0, 0, 0, 1, 0, 0, 0, 0])"
            ]
          },
          "metadata": {
            "tags": []
          },
          "execution_count": 96
        }
      ]
    },
    {
      "cell_type": "code",
      "metadata": {
        "colab": {
          "base_uri": "https://localhost:8080/"
        },
        "id": "mCT4DlIDXoDv",
        "outputId": "defef210-fe5a-42bd-8648-e67298639e0a"
      },
      "source": [
        "len(final_test_to_be_produced)"
      ],
      "execution_count": 97,
      "outputs": [
        {
          "output_type": "execute_result",
          "data": {
            "text/plain": [
              "860"
            ]
          },
          "metadata": {
            "tags": []
          },
          "execution_count": 97
        }
      ]
    },
    {
      "cell_type": "code",
      "metadata": {
        "id": "LI4nKZUeXoeY"
      },
      "source": [
        "y_final_pred = y_final_pred.tolist()"
      ],
      "execution_count": 98,
      "outputs": []
    },
    {
      "cell_type": "code",
      "metadata": {
        "id": "a2i07x0oXog4"
      },
      "source": [
        "del final_test_to_be_produced['tweet']"
      ],
      "execution_count": 99,
      "outputs": []
    },
    {
      "cell_type": "code",
      "metadata": {
        "id": "0cGpmM3DXojl"
      },
      "source": [
        "final_test_to_be_produced['label'] = y_final_pred"
      ],
      "execution_count": 100,
      "outputs": []
    },
    {
      "cell_type": "code",
      "metadata": {
        "colab": {
          "base_uri": "https://localhost:8080/",
          "height": 407
        },
        "id": "um6rtLmoXomy",
        "outputId": "53c665fc-84c9-480e-ffaf-9bad64ce17f1"
      },
      "source": [
        "final_test_to_be_produced"
      ],
      "execution_count": 101,
      "outputs": [
        {
          "output_type": "execute_result",
          "data": {
            "text/html": [
              "<div>\n",
              "<style scoped>\n",
              "    .dataframe tbody tr th:only-of-type {\n",
              "        vertical-align: middle;\n",
              "    }\n",
              "\n",
              "    .dataframe tbody tr th {\n",
              "        vertical-align: top;\n",
              "    }\n",
              "\n",
              "    .dataframe thead th {\n",
              "        text-align: right;\n",
              "    }\n",
              "</style>\n",
              "<table border=\"1\" class=\"dataframe\">\n",
              "  <thead>\n",
              "    <tr style=\"text-align: right;\">\n",
              "      <th></th>\n",
              "      <th>id</th>\n",
              "      <th>label</th>\n",
              "    </tr>\n",
              "  </thead>\n",
              "  <tbody>\n",
              "    <tr>\n",
              "      <th>0</th>\n",
              "      <td>15923</td>\n",
              "      <td>1</td>\n",
              "    </tr>\n",
              "    <tr>\n",
              "      <th>1</th>\n",
              "      <td>27014</td>\n",
              "      <td>0</td>\n",
              "    </tr>\n",
              "    <tr>\n",
              "      <th>2</th>\n",
              "      <td>30530</td>\n",
              "      <td>0</td>\n",
              "    </tr>\n",
              "    <tr>\n",
              "      <th>3</th>\n",
              "      <td>13876</td>\n",
              "      <td>0</td>\n",
              "    </tr>\n",
              "    <tr>\n",
              "      <th>4</th>\n",
              "      <td>60133</td>\n",
              "      <td>0</td>\n",
              "    </tr>\n",
              "    <tr>\n",
              "      <th>...</th>\n",
              "      <td>...</td>\n",
              "      <td>...</td>\n",
              "    </tr>\n",
              "    <tr>\n",
              "      <th>855</th>\n",
              "      <td>73439</td>\n",
              "      <td>1</td>\n",
              "    </tr>\n",
              "    <tr>\n",
              "      <th>856</th>\n",
              "      <td>25657</td>\n",
              "      <td>0</td>\n",
              "    </tr>\n",
              "    <tr>\n",
              "      <th>857</th>\n",
              "      <td>67018</td>\n",
              "      <td>0</td>\n",
              "    </tr>\n",
              "    <tr>\n",
              "      <th>858</th>\n",
              "      <td>50665</td>\n",
              "      <td>1</td>\n",
              "    </tr>\n",
              "    <tr>\n",
              "      <th>859</th>\n",
              "      <td>24583</td>\n",
              "      <td>0</td>\n",
              "    </tr>\n",
              "  </tbody>\n",
              "</table>\n",
              "<p>860 rows × 2 columns</p>\n",
              "</div>"
            ],
            "text/plain": [
              "        id  label\n",
              "0    15923      1\n",
              "1    27014      0\n",
              "2    30530      0\n",
              "3    13876      0\n",
              "4    60133      0\n",
              "..     ...    ...\n",
              "855  73439      1\n",
              "856  25657      0\n",
              "857  67018      0\n",
              "858  50665      1\n",
              "859  24583      0\n",
              "\n",
              "[860 rows x 2 columns]"
            ]
          },
          "metadata": {
            "tags": []
          },
          "execution_count": 101
        }
      ]
    },
    {
      "cell_type": "code",
      "metadata": {
        "id": "WVRtQstaXopk"
      },
      "source": [
        "final_test_to_be_produced['label']=np.where(final_test_to_be_produced['label'] == 0,'NOT', 'OFF')"
      ],
      "execution_count": 102,
      "outputs": []
    },
    {
      "cell_type": "code",
      "metadata": {
        "colab": {
          "base_uri": "https://localhost:8080/",
          "height": 407
        },
        "id": "j0e3C64dYDOx",
        "outputId": "105ec839-f693-4df0-febb-a232414520d3"
      },
      "source": [
        "final_test_to_be_produced"
      ],
      "execution_count": 103,
      "outputs": [
        {
          "output_type": "execute_result",
          "data": {
            "text/html": [
              "<div>\n",
              "<style scoped>\n",
              "    .dataframe tbody tr th:only-of-type {\n",
              "        vertical-align: middle;\n",
              "    }\n",
              "\n",
              "    .dataframe tbody tr th {\n",
              "        vertical-align: top;\n",
              "    }\n",
              "\n",
              "    .dataframe thead th {\n",
              "        text-align: right;\n",
              "    }\n",
              "</style>\n",
              "<table border=\"1\" class=\"dataframe\">\n",
              "  <thead>\n",
              "    <tr style=\"text-align: right;\">\n",
              "      <th></th>\n",
              "      <th>id</th>\n",
              "      <th>label</th>\n",
              "    </tr>\n",
              "  </thead>\n",
              "  <tbody>\n",
              "    <tr>\n",
              "      <th>0</th>\n",
              "      <td>15923</td>\n",
              "      <td>OFF</td>\n",
              "    </tr>\n",
              "    <tr>\n",
              "      <th>1</th>\n",
              "      <td>27014</td>\n",
              "      <td>NOT</td>\n",
              "    </tr>\n",
              "    <tr>\n",
              "      <th>2</th>\n",
              "      <td>30530</td>\n",
              "      <td>NOT</td>\n",
              "    </tr>\n",
              "    <tr>\n",
              "      <th>3</th>\n",
              "      <td>13876</td>\n",
              "      <td>NOT</td>\n",
              "    </tr>\n",
              "    <tr>\n",
              "      <th>4</th>\n",
              "      <td>60133</td>\n",
              "      <td>NOT</td>\n",
              "    </tr>\n",
              "    <tr>\n",
              "      <th>...</th>\n",
              "      <td>...</td>\n",
              "      <td>...</td>\n",
              "    </tr>\n",
              "    <tr>\n",
              "      <th>855</th>\n",
              "      <td>73439</td>\n",
              "      <td>OFF</td>\n",
              "    </tr>\n",
              "    <tr>\n",
              "      <th>856</th>\n",
              "      <td>25657</td>\n",
              "      <td>NOT</td>\n",
              "    </tr>\n",
              "    <tr>\n",
              "      <th>857</th>\n",
              "      <td>67018</td>\n",
              "      <td>NOT</td>\n",
              "    </tr>\n",
              "    <tr>\n",
              "      <th>858</th>\n",
              "      <td>50665</td>\n",
              "      <td>OFF</td>\n",
              "    </tr>\n",
              "    <tr>\n",
              "      <th>859</th>\n",
              "      <td>24583</td>\n",
              "      <td>NOT</td>\n",
              "    </tr>\n",
              "  </tbody>\n",
              "</table>\n",
              "<p>860 rows × 2 columns</p>\n",
              "</div>"
            ],
            "text/plain": [
              "        id label\n",
              "0    15923   OFF\n",
              "1    27014   NOT\n",
              "2    30530   NOT\n",
              "3    13876   NOT\n",
              "4    60133   NOT\n",
              "..     ...   ...\n",
              "855  73439   OFF\n",
              "856  25657   NOT\n",
              "857  67018   NOT\n",
              "858  50665   OFF\n",
              "859  24583   NOT\n",
              "\n",
              "[860 rows x 2 columns]"
            ]
          },
          "metadata": {
            "tags": []
          },
          "execution_count": 103
        }
      ]
    },
    {
      "cell_type": "markdown",
      "metadata": {
        "id": "xRms5W7Uu1iX"
      },
      "source": [
        "# New section"
      ]
    },
    {
      "cell_type": "code",
      "metadata": {
        "id": "rL81OCUQYDRk"
      },
      "source": [
        "final_test_to_be_produced.to_csv('Task-NLPweek-a.tsv', index=None, sep='\\t', mode='a')"
      ],
      "execution_count": 104,
      "outputs": []
    },
    {
      "cell_type": "code",
      "metadata": {
        "id": "9T-uJ2vuC0Lw"
      },
      "source": [
        ""
      ],
      "execution_count": null,
      "outputs": []
    }
  ]
}