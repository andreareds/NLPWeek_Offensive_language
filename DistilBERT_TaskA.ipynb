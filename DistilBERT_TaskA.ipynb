{
 "cells": [
  {
   "cell_type": "code",
   "execution_count": 1,
   "id": "flying-blowing",
   "metadata": {},
   "outputs": [],
   "source": [
    "import pandas as pd\n",
    "import numpy as np\n",
    "import torch\n",
    "import torch.nn as nn\n",
    "import matplotlib.pyplot as plt\n",
    "import seaborn as sns\n",
    "import emoji\n",
    "from sklearn.model_selection import train_test_split\n",
    "from torch.utils.data import DataLoader, Dataset, WeightedRandomSampler\n",
    "from transformers import get_constant_schedule_with_warmup, get_linear_schedule_with_warmup\n",
    "from tqdm import tqdm\n",
    "import joblib\n",
    "from transformers import DistilBertTokenizerFast, BertTokenizerFast\n",
    "import torch\n",
    "from sklearn.metrics import accuracy_score, precision_recall_fscore_support\n",
    "from transformers import DistilBertForSequenceClassification, Trainer, TrainingArguments, BertForSequenceClassification\n",
    "from pathlib import Path\n",
    "from scipy.special import softmax\n",
    "\n",
    "# specify GPU device\n",
    "device = torch.device(\"cuda\" if torch.cuda.is_available() else \"cpu\")\n",
    "\n",
    "def remove_emoji(s):\n",
    "    return emoji.get_emoji_regexp().sub(u'', s)\n",
    "    \n",
    "def count_trainable_paras(model):\n",
    "    model_parameters = filter(lambda p: p.requires_grad, model.parameters())\n",
    "    params = sum([np.prod(p.size()) for p in model_parameters])\n",
    "    return params\n",
    "\n",
    "def count_word(s, w):\n",
    "    return s.count(w)\n",
    "  \n",
    "def preprocessing_sent(s):\n",
    "    # Lower\n",
    "    #s = segment(s)\n",
    "    #s = ' '.join(s)\n",
    "    s = s.lower()\n",
    "    s = s.replace('url', 'http')\n",
    "    #s = s.replace('#', '')\n",
    "    #s = s.replace('@', '')\n",
    "    #s = remove_emoji(s)\n",
    "    s = emoji.demojize(s)\n",
    "    return s\n",
    "\n",
    "# Change the Data Directory here\n",
    "DATA_DIR = '/home/nmduy/NUIG/data'"
   ]
  },
  {
   "cell_type": "markdown",
   "id": "valuable-yahoo",
   "metadata": {},
   "source": [
    "# Read Data"
   ]
  },
  {
   "cell_type": "code",
   "execution_count": 2,
   "id": "collective-vitamin",
   "metadata": {},
   "outputs": [
    {
     "data": {
      "text/plain": [
       "0    8840\n",
       "1    4400\n",
       "Name: label, dtype: int64"
      ]
     },
     "execution_count": 2,
     "metadata": {},
     "output_type": "execute_result"
    }
   ],
   "source": [
    "# Read and preprocess tweet\n",
    "data = pd.read_csv(f'{DATA_DIR}/olid-training-v1.0.tsv', sep='\\t')\n",
    "data = data.drop(columns=['subtask_b', 'subtask_c'])\n",
    "data.columns = ['id', 'tweet', 'label']\n",
    "label = {'OFF': 1,'NOT': 0}\n",
    "data.label = [label[item] for item in data.label]\n",
    "data['tweet_demojize'] = [preprocessing_sent(x) for x in data.tweet.tolist()]\n",
    "data.label.value_counts()"
   ]
  },
  {
   "cell_type": "code",
   "execution_count": 3,
   "id": "right-republican",
   "metadata": {},
   "outputs": [],
   "source": [
    "# Split training data into train + validate\n",
    "X = data.tweet_demojize.to_frame()\n",
    "y = data.label.to_frame()\n",
    "\n",
    "X_train, X_val, y_train, y_val = train_test_split(X, y,stratify=y, test_size=0.2, random_state=1509)\n",
    "\n",
    "data_train = X_train.copy()\n",
    "data_train['label'] = y_train.label.tolist()\n",
    "\n",
    "data_val = X_val.copy()\n",
    "data_val['label'] = y_val.label.tolist()\n",
    "\n",
    "data_train.columns = ['tweet', 'label']\n",
    "data_val.columns = ['tweet', 'label']"
   ]
  },
  {
   "cell_type": "code",
   "execution_count": 4,
   "id": "resident-narrative",
   "metadata": {},
   "outputs": [
    {
     "data": {
      "text/html": [
       "<div>\n",
       "<style scoped>\n",
       "    .dataframe tbody tr th:only-of-type {\n",
       "        vertical-align: middle;\n",
       "    }\n",
       "\n",
       "    .dataframe tbody tr th {\n",
       "        vertical-align: top;\n",
       "    }\n",
       "\n",
       "    .dataframe thead th {\n",
       "        text-align: right;\n",
       "    }\n",
       "</style>\n",
       "<table border=\"1\" class=\"dataframe\">\n",
       "  <thead>\n",
       "    <tr style=\"text-align: right;\">\n",
       "      <th></th>\n",
       "      <th>tweet</th>\n",
       "      <th>label</th>\n",
       "    </tr>\n",
       "  </thead>\n",
       "  <tbody>\n",
       "    <tr>\n",
       "      <th>0</th>\n",
       "      <td>#whoisq #wherestheserver #dumpnike #declasfisa...</td>\n",
       "      <td>1</td>\n",
       "    </tr>\n",
       "    <tr>\n",
       "      <th>1</th>\n",
       "      <td>#constitutionday is revered by conservatives, ...</td>\n",
       "      <td>0</td>\n",
       "    </tr>\n",
       "    <tr>\n",
       "      <th>2</th>\n",
       "      <td>#foxnews #nra #maga #potus #trump #2ndamendmen...</td>\n",
       "      <td>0</td>\n",
       "    </tr>\n",
       "    <tr>\n",
       "      <th>3</th>\n",
       "      <td>#watching #boomer getting the news that she is...</td>\n",
       "      <td>0</td>\n",
       "    </tr>\n",
       "    <tr>\n",
       "      <th>4</th>\n",
       "      <td>#nopasaran: unity demo to oppose the far-right...</td>\n",
       "      <td>1</td>\n",
       "    </tr>\n",
       "  </tbody>\n",
       "</table>\n",
       "</div>"
      ],
      "text/plain": [
       "                                               tweet  label\n",
       "0  #whoisq #wherestheserver #dumpnike #declasfisa...      1\n",
       "1  #constitutionday is revered by conservatives, ...      0\n",
       "2  #foxnews #nra #maga #potus #trump #2ndamendmen...      0\n",
       "3  #watching #boomer getting the news that she is...      0\n",
       "4  #nopasaran: unity demo to oppose the far-right...      1"
      ]
     },
     "execution_count": 4,
     "metadata": {},
     "output_type": "execute_result"
    }
   ],
   "source": [
    "# Create TEST SET (do the same)\n",
    "data_test = pd.read_csv(f'{DATA_DIR}/testset-levela.tsv', sep='\\t')\n",
    "data_test['tweet_demojize'] = [preprocessing_sent(x) for x in data_test.tweet.tolist()]\n",
    "data_test.columns = ['id', 'tweet', 'tweet_demojize']\n",
    "\n",
    "# Read label test set\n",
    "label_test = pd.read_csv(f'{DATA_DIR}/labels-levela.csv', header=None)\n",
    "label_test.columns = ['id', 'label']\n",
    "label = {'OFF': 1,'NOT': 0}\n",
    "data_test_id = data_test['id'].tolist()\n",
    "data_test_label = label_test['label'].tolist()\n",
    "label_test.label = [label[item] for item in label_test.label]\n",
    "\n",
    "data_test = pd.merge(data_test, label_test, on='id')\n",
    "data_test = data_test.drop(columns=['id', 'tweet'])\n",
    "data_test.columns = ['tweet', 'label']\n",
    "data_test.head()"
   ]
  },
  {
   "cell_type": "markdown",
   "id": "eastern-terrace",
   "metadata": {},
   "source": [
    "# Apply DistilBERT"
   ]
  },
  {
   "cell_type": "code",
   "execution_count": 5,
   "id": "broad-tomorrow",
   "metadata": {},
   "outputs": [],
   "source": [
    "class TweetDataset(torch.utils.data.Dataset):\n",
    "    def __init__(self, encodings, labels):\n",
    "        self.encodings = encodings\n",
    "        self.labels = labels\n",
    "\n",
    "    def __getitem__(self, idx):\n",
    "        item = {key: torch.tensor(val[idx]) for key, val in self.encodings.items()}\n",
    "        item['labels'] = torch.tensor(self.labels[idx])\n",
    "        return item\n",
    "\n",
    "    def __len__(self):\n",
    "        return len(self.labels)\n",
    "\n",
    "def compute_metrics(pred):\n",
    "    labels = pred.label_ids\n",
    "    labels_tensor = torch.tensor(labels)\n",
    "    preds_logits = torch.tensor(pred.predictions)\n",
    "    preds = pred.predictions.argmax(-1)\n",
    "    precision, recall, f1, _ = precision_recall_fscore_support(labels, preds, average='macro')\n",
    "    acc = accuracy_score(labels, preds)\n",
    "    loss_fct = nn.CrossEntropyLoss()\n",
    "    loss = loss_fct(preds_logits.view(-1,2), labels_tensor.view(-1)) # 2 class\n",
    "    return {\n",
    "        'accuracy': acc,\n",
    "        'f1': f1,\n",
    "        'precision': precision,\n",
    "        'recall': recall,\n",
    "        'lof1': 1 - loss + f1 # take both loss and F1 score into account\n",
    "    }"
   ]
  },
  {
   "cell_type": "code",
   "execution_count": 6,
   "id": "defined-reconstruction",
   "metadata": {},
   "outputs": [],
   "source": [
    "X_train = data_train.tweet.tolist()\n",
    "X_val = data_val.tweet.tolist()\n",
    "X_test = data_test.tweet.tolist()\n",
    "\n",
    "Y_train = data_train.label.tolist()\n",
    "Y_val = data_val.label.tolist()\n",
    "Y_test = data_test.label.tolist()"
   ]
  },
  {
   "cell_type": "code",
   "execution_count": 7,
   "id": "disciplinary-dining",
   "metadata": {},
   "outputs": [],
   "source": [
    "tokenizer = DistilBertTokenizerFast.from_pretrained('distilbert-base-uncased')\n",
    "#tokenizer = BertTokenizerFast.from_pretrained('bert-base-uncased')\n",
    "\n",
    "X_encoding_train = tokenizer(list(map(str, X_train)), truncation=True, padding=True)\n",
    "X_encoding_val = tokenizer(list(map(str, X_val)), truncation=True, padding=True)\n",
    "X_encoding_test = tokenizer(list(map(str, X_test)), truncation=True, padding=True)"
   ]
  },
  {
   "cell_type": "code",
   "execution_count": 8,
   "id": "clear-criticism",
   "metadata": {},
   "outputs": [],
   "source": [
    "train_ds = TweetDataset(X_encoding_train, Y_train)\n",
    "val_ds = TweetDataset(X_encoding_val, Y_val)\n",
    "test_ds = TweetDataset(X_encoding_test, Y_test)"
   ]
  },
  {
   "cell_type": "code",
   "execution_count": 9,
   "id": "natural-chemical",
   "metadata": {},
   "outputs": [],
   "source": [
    "OUTPUT_DIR = Path('results')\n",
    "LOG_DIR = Path('logs')\n",
    "EPOCHES = 6 # If you have strong GPU set it high (6 or more), but for Colab just let it 3\n",
    "# however it will be converge after 2 - 4 epochs\n",
    "BATCH_SIZE = 32\n",
    "\n",
    "training_args = TrainingArguments(\n",
    "    output_dir=str(OUTPUT_DIR),\n",
    "    num_train_epochs=EPOCHES,              \n",
    "    per_device_train_batch_size=BATCH_SIZE,  \n",
    "    per_device_eval_batch_size=BATCH_SIZE*4,   \n",
    "    warmup_steps=200,               \n",
    "    weight_decay=0.015,          \n",
    "    logging_dir=str(LOG_DIR),\n",
    "    logging_steps=200,\n",
    "    evaluation_strategy=\"epoch\",\n",
    "    seed=1509,\n",
    "    learning_rate=8e-6,\n",
    "    load_best_model_at_end=True,\n",
    "    metric_for_best_model='eval_lof1',\n",
    "    greater_is_better=True\n",
    ")"
   ]
  },
  {
   "cell_type": "code",
   "execution_count": 10,
   "id": "informative-request",
   "metadata": {},
   "outputs": [
    {
     "name": "stderr",
     "output_type": "stream",
     "text": [
      "Some weights of the model checkpoint at distilbert-base-uncased were not used when initializing DistilBertForSequenceClassification: ['vocab_projector.weight', 'vocab_layer_norm.weight', 'vocab_layer_norm.bias', 'vocab_projector.bias', 'vocab_transform.bias', 'vocab_transform.weight']\n",
      "- This IS expected if you are initializing DistilBertForSequenceClassification from the checkpoint of a model trained on another task or with another architecture (e.g. initializing a BertForSequenceClassification model from a BertForPreTraining model).\n",
      "- This IS NOT expected if you are initializing DistilBertForSequenceClassification from the checkpoint of a model that you expect to be exactly identical (initializing a BertForSequenceClassification model from a BertForSequenceClassification model).\n",
      "Some weights of DistilBertForSequenceClassification were not initialized from the model checkpoint at distilbert-base-uncased and are newly initialized: ['classifier.weight', 'pre_classifier.weight', 'pre_classifier.bias', 'classifier.bias']\n",
      "You should probably TRAIN this model on a down-stream task to be able to use it for predictions and inference.\n"
     ]
    },
    {
     "data": {
      "text/plain": [
       "66955010"
      ]
     },
     "execution_count": 10,
     "metadata": {},
     "output_type": "execute_result"
    }
   ],
   "source": [
    "model = DistilBertForSequenceClassification.from_pretrained(\"distilbert-base-uncased\")\n",
    "#model = BertForSequenceClassification.from_pretrained(\"bert-base-uncased\")\n",
    "count_trainable_paras(model)"
   ]
  },
  {
   "cell_type": "code",
   "execution_count": 11,
   "id": "opening-connectivity",
   "metadata": {},
   "outputs": [
    {
     "data": {
      "text/html": [
       "\n",
       "    <div>\n",
       "      \n",
       "      <progress value='2648' max='2648' style='width:300px; height:20px; vertical-align: middle;'></progress>\n",
       "      [2648/2648 14:02, Epoch 8/8]\n",
       "    </div>\n",
       "    <table border=\"1\" class=\"dataframe\">\n",
       "  <thead>\n",
       "    <tr style=\"text-align: left;\">\n",
       "      <th>Epoch</th>\n",
       "      <th>Training Loss</th>\n",
       "      <th>Validation Loss</th>\n",
       "      <th>Accuracy</th>\n",
       "      <th>F1</th>\n",
       "      <th>Precision</th>\n",
       "      <th>Recall</th>\n",
       "      <th>Lof1</th>\n",
       "    </tr>\n",
       "  </thead>\n",
       "  <tbody>\n",
       "    <tr>\n",
       "      <td>1</td>\n",
       "      <td>0.621800</td>\n",
       "      <td>0.448208</td>\n",
       "      <td>0.805514</td>\n",
       "      <td>0.756400</td>\n",
       "      <td>0.809001</td>\n",
       "      <td>0.737922</td>\n",
       "      <td>1.308191</td>\n",
       "    </tr>\n",
       "    <tr>\n",
       "      <td>2</td>\n",
       "      <td>0.416100</td>\n",
       "      <td>0.419868</td>\n",
       "      <td>0.818353</td>\n",
       "      <td>0.791714</td>\n",
       "      <td>0.797607</td>\n",
       "      <td>0.786919</td>\n",
       "      <td>1.371846</td>\n",
       "    </tr>\n",
       "    <tr>\n",
       "      <td>3</td>\n",
       "      <td>0.395500</td>\n",
       "      <td>0.422790</td>\n",
       "      <td>0.817598</td>\n",
       "      <td>0.791744</td>\n",
       "      <td>0.796055</td>\n",
       "      <td>0.788066</td>\n",
       "      <td>1.368955</td>\n",
       "    </tr>\n",
       "    <tr>\n",
       "      <td>4</td>\n",
       "      <td>0.343800</td>\n",
       "      <td>0.445205</td>\n",
       "      <td>0.818731</td>\n",
       "      <td>0.790771</td>\n",
       "      <td>0.799242</td>\n",
       "      <td>0.784348</td>\n",
       "      <td>1.345566</td>\n",
       "    </tr>\n",
       "    <tr>\n",
       "      <td>5</td>\n",
       "      <td>0.299200</td>\n",
       "      <td>0.457426</td>\n",
       "      <td>0.818731</td>\n",
       "      <td>0.786857</td>\n",
       "      <td>0.803526</td>\n",
       "      <td>0.776357</td>\n",
       "      <td>1.329431</td>\n",
       "    </tr>\n",
       "    <tr>\n",
       "      <td>6</td>\n",
       "      <td>0.288400</td>\n",
       "      <td>0.477431</td>\n",
       "      <td>0.813444</td>\n",
       "      <td>0.783837</td>\n",
       "      <td>0.793698</td>\n",
       "      <td>0.776679</td>\n",
       "      <td>1.306406</td>\n",
       "    </tr>\n",
       "    <tr>\n",
       "      <td>7</td>\n",
       "      <td>0.253400</td>\n",
       "      <td>0.506182</td>\n",
       "      <td>0.813822</td>\n",
       "      <td>0.783641</td>\n",
       "      <td>0.794743</td>\n",
       "      <td>0.775820</td>\n",
       "      <td>1.277459</td>\n",
       "    </tr>\n",
       "    <tr>\n",
       "      <td>8</td>\n",
       "      <td>0.237300</td>\n",
       "      <td>0.512638</td>\n",
       "      <td>0.808157</td>\n",
       "      <td>0.780497</td>\n",
       "      <td>0.785396</td>\n",
       "      <td>0.776429</td>\n",
       "      <td>1.267859</td>\n",
       "    </tr>\n",
       "  </tbody>\n",
       "</table><p>"
      ],
      "text/plain": [
       "<IPython.core.display.HTML object>"
      ]
     },
     "metadata": {},
     "output_type": "display_data"
    },
    {
     "data": {
      "text/plain": [
       "TrainOutput(global_step=2648, training_loss=0.34578607413703943, metrics={'train_runtime': 842.5411, 'train_samples_per_second': 3.143, 'total_flos': 0, 'epoch': 8.0})"
      ]
     },
     "execution_count": 11,
     "metadata": {},
     "output_type": "execute_result"
    }
   ],
   "source": [
    "# Train the model\n",
    "trainer = Trainer(model=model, args=training_args, \n",
    "                  train_dataset=train_ds, eval_dataset=val_ds, \n",
    "                  compute_metrics = compute_metrics)\n",
    "trainer.train() # It takes a while (around 20mins for 3 pochs on Google Colab)\n",
    "# Only keep best model automatically"
   ]
  },
  {
   "cell_type": "code",
   "execution_count": 12,
   "id": "employed-ranking",
   "metadata": {},
   "outputs": [
    {
     "data": {
      "text/html": [
       "\n",
       "    <div>\n",
       "      \n",
       "      <progress value='7' max='7' style='width:300px; height:20px; vertical-align: middle;'></progress>\n",
       "      [7/7 00:01]\n",
       "    </div>\n",
       "    "
      ],
      "text/plain": [
       "<IPython.core.display.HTML object>"
      ]
     },
     "metadata": {},
     "output_type": "display_data"
    },
    {
     "data": {
      "text/plain": [
       "{'test_loss': 0.36703553795814514,\n",
       " 'test_accuracy': 0.8558139534883721,\n",
       " 'test_f1': 0.8100855541070958,\n",
       " 'test_precision': 0.8337758247123805,\n",
       " 'test_recall': 0.794018817204301,\n",
       " 'test_lof1': 1.443049669265747,\n",
       " 'test_runtime': 1.261,\n",
       " 'test_samples_per_second': 681.993}"
      ]
     },
     "execution_count": 12,
     "metadata": {},
     "output_type": "execute_result"
    }
   ],
   "source": [
    "# Show test result\n",
    "# Can be slightly different (less than 1%) with the report due to the randomness\n",
    "pred_test = trainer.predict(test_ds)\n",
    "prob_test = softmax(pred_test.predictions, axis=1)[:, 1]\n",
    "pred_test.metrics"
   ]
  },
  {
   "cell_type": "code",
   "execution_count": null,
   "id": "pointed-original",
   "metadata": {},
   "outputs": [],
   "source": [
    "trainer.save_model('distilbert_taska.model') # Save model"
   ]
  }
 ],
 "metadata": {
  "kernelspec": {
   "display_name": "Python 3",
   "language": "python",
   "name": "python3"
  },
  "language_info": {
   "codemirror_mode": {
    "name": "ipython",
    "version": 3
   },
   "file_extension": ".py",
   "mimetype": "text/x-python",
   "name": "python",
   "nbconvert_exporter": "python",
   "pygments_lexer": "ipython3",
   "version": "3.7.9"
  }
 },
 "nbformat": 4,
 "nbformat_minor": 5
}
